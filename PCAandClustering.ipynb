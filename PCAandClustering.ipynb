{
 "cells": [
  {
   "cell_type": "code",
   "execution_count": 1,
   "metadata": {},
   "outputs": [],
   "source": [
    "import numpy as np\n",
    "import pandas as pd\n",
    "import matplotlib.pyplot as plt\n",
    "import seaborn as sns\n",
    "from sklearn.datasets import make_blobs\n",
    "from sklearn.decomposition import PCA\n",
    "import plotly.express as px\n",
    "\n",
    "from sklearn.cluster import KMeans\n",
    "from sklearn import metrics\n",
    "\n",
    "\n",
    "%matplotlib inline\n",
    "# to make prettier plots \n",
    "# from: https://blakeaw.github.io/2020-05-25-improve-matplotlib-notebook-inline-res/\n",
    "sns.set(rc={\"figure.dpi\":100, 'savefig.dpi':300})\n",
    "sns.set_context('notebook')\n",
    "sns.set_style(\"ticks\")\n",
    "from IPython.display import set_matplotlib_formats\n",
    "set_matplotlib_formats('retina')\n"
   ]
  },
  {
   "cell_type": "code",
   "execution_count": 2,
   "metadata": {},
   "outputs": [],
   "source": [
    "def compute_PCA(data_stand, n_components=2):\n",
    "    pca = PCA()\n",
    "    X = pca.fit_transform(data_stand)\n",
    "    principal_df = pd.DataFrame(data = X)\n",
    "    cum_exp_var = np.cumsum(np.round(pca.explained_variance_ratio_, decimals=4)*100)\n",
    "    fig, ax = plt.subplots(figsize=(8, 6))\n",
    "    ax.plot(cum_exp_var)\n",
    "    ax.set_xlabel('Number of Components')\n",
    "    ax.set_ylabel('Cumulative Explained Variance')\n",
    "    # write the cumulative explained variance on the plot\n",
    "    for i, ev in enumerate(cum_exp_var):\n",
    "        ax.text(i, cum_exp_var[i]-1.5, np.round(ev), \n",
    "                ha='left', va='top', fontsize=10)\n",
    "        # put a point \n",
    "        ax.scatter(i, cum_exp_var[i], s=50, c='blue', marker='o')\n",
    "    plt.show()\n",
    "    return principal_df, pca\n",
    "\n",
    "def plot_2D_embedding(principal_df, cluster_labels=None):\n",
    "    # 2D plotting PCA\n",
    "    fig, ax = plt.subplots(figsize=(8, 6))\n",
    "    color = cluster_labels if cluster_labels is not None else \"royalblue\"\n",
    "    ax.scatter(principal_df[0],\n",
    "                principal_df[1],\n",
    "                    c=color,\n",
    "                    cmap='viridis',\n",
    "                )\n",
    "    ax.set_xlabel('Principal Component 1', fontsize=15)\n",
    "    ax.set_ylabel('Principal Component 2', fontsize=15)\n",
    "    ax.set_title('2 component PCA', fontsize=20)\n",
    "    ax.grid()\n",
    "    plt.show()\n",
    "    return fig, ax\n",
    "\n",
    "    \n"
   ]
  },
  {
   "cell_type": "markdown",
   "metadata": {},
   "source": [
    "# Fails to detect Clusters "
   ]
  },
  {
   "cell_type": "code",
   "execution_count": 3,
   "metadata": {},
   "outputs": [
    {
     "data": {
      "application/vnd.plotly.v1+json": {
       "config": {
        "plotlyServerURL": "https://plot.ly"
       },
       "data": [
        {
         "hovertemplate": "x=%{x}<br>y=%{y}<br>z=%{z}<extra></extra>",
         "legendgroup": "",
         "marker": {
          "color": "#636efa",
          "symbol": "circle"
         },
         "mode": "markers",
         "name": "",
         "scene": "scene",
         "showlegend": false,
         "type": "scatter3d",
         "x": [
          2,
          2,
          2,
          2,
          2,
          2,
          2,
          2,
          2,
          2,
          2,
          2,
          2,
          2,
          2,
          2,
          2,
          2,
          2,
          2,
          2,
          2,
          2,
          2,
          2,
          2,
          2,
          2,
          2,
          2,
          2,
          2,
          2,
          2,
          2,
          2,
          2,
          2,
          2,
          2,
          2,
          2,
          2,
          2,
          2,
          2,
          2,
          2,
          2,
          2,
          2,
          2,
          2,
          2,
          2,
          2,
          2,
          2,
          2,
          2,
          2,
          2,
          2,
          2,
          2,
          2,
          2,
          2,
          2,
          2,
          2,
          2,
          2,
          2,
          2,
          2,
          2,
          2,
          2,
          2,
          2,
          2,
          2,
          2,
          2,
          2,
          2,
          2,
          2,
          2,
          2,
          2,
          2,
          2,
          2,
          2,
          2,
          2,
          2,
          2,
          -2,
          -2,
          -2,
          -2,
          -2,
          -2,
          -2,
          -2,
          -2,
          -2,
          -2,
          -2,
          -2,
          -2,
          -2,
          -2,
          -2,
          -2,
          -2,
          -2,
          -2,
          -2,
          -2,
          -2,
          -2,
          -2,
          -2,
          -2,
          -2,
          -2,
          -2,
          -2,
          -2,
          -2,
          -2,
          -2,
          -2,
          -2,
          -2,
          -2,
          -2,
          -2,
          -2,
          -2,
          -2,
          -2,
          -2,
          -2,
          -2,
          -2,
          -2,
          -2,
          -2,
          -2,
          -2,
          -2,
          -2,
          -2,
          -2,
          -2,
          -2,
          -2,
          -2,
          -2,
          -2,
          -2,
          -2,
          -2,
          -2,
          -2,
          -2,
          -2,
          -2,
          -2,
          -2,
          -2,
          -2,
          -2,
          -2,
          -2,
          -2,
          -2,
          -2,
          -2,
          -2,
          -2,
          -2,
          -2,
          -2,
          -2,
          -2,
          -2,
          -2,
          -2,
          -2,
          -2,
          -2,
          -2,
          -2,
          -2
         ],
         "y": [
          6.578944048996398,
          3.8265353311232633,
          0.6666135231658215,
          1.408400792029129,
          3.259383253987475,
          2.307859776782772,
          5.458507298019313,
          1.9154731834991992,
          -6.682699368955741,
          3.5695786751250123,
          7.785533950509318,
          1.1135456304508333,
          5.5746077216218675,
          1.441112355637244,
          -1.6870871643438434,
          -0.06746636943196282,
          4.6671421207296575,
          -0.18571037367736176,
          -2.1693888166547826,
          -4.142540493328543,
          -0.5526864667084654,
          -2.7821160016032835,
          -3.8654234641273595,
          -1.710129605034532,
          -0.5561453341601239,
          0.8917233935305304,
          1.1758217456959987,
          -0.9266962024963958,
          -1.041111264781358,
          -1.463168767586867,
          1.5085485053077536,
          -3.914324962351639,
          -1.7456250146032315,
          3.163541765079106,
          4.394472132176397,
          2.183295002079142,
          -1.6361213689991505,
          0.041612482164377074,
          -2.5191794438035746,
          2.3732573977378744,
          5.441026659933295,
          4.512608792025447,
          -2.2359877859851327,
          -0.23326076237304383,
          1.601095012777076,
          2.045369270069701,
          1.0077701407089565,
          1.357006356657355,
          6.625722169715258,
          -2.8351849169107055,
          -2.5431001367959847,
          -0.2645868637327471,
          6.745096157987649,
          6.5789469598262045,
          -1.6074069766176127,
          0.1722599656923539,
          3.818025981867739,
          2.818508189584736,
          2.105546672013383,
          1.870984601164663,
          -1.1074335006476015,
          -0.32919057661841733,
          2.9931543495838016,
          -1.3334781447894541,
          -1.0467279034256332,
          -0.9312681565901477,
          2.706042528391318,
          2.164290216531431,
          -3.4975026995703216,
          1.4762905646640823,
          8.125704403138322,
          -1.7621965977859806,
          -2.9714521529880686,
          0.7715452625726014,
          -1.2579943875988246,
          0.6809125052701981,
          4.356177844866016,
          -2.466135878686812,
          -0.5178272735304197,
          3.8245324993237775,
          -2.7000364779440087,
          -2.024375963622199,
          4.540359455603401,
          3.738846549888952,
          3.5467619142545685,
          -2.126458446806899,
          -1.4339589139750282,
          -0.3903274320055343,
          -0.08571165521395674,
          -0.9545851299521764,
          2.8519644316280575,
          -2.3368799397388567,
          -1.2424189106274448,
          -2.9023006506238507,
          0.8584216238640082,
          2.546100060141756,
          3.291641732187497,
          7.465977926388565,
          -0.13127543528083563,
          4.275248866207835,
          3.975662099725654,
          1.982289148236071,
          2.8950413185625927,
          4.785804245710654,
          4.4142514077598065,
          -0.7780712463218733,
          2.0042062798485563,
          8.833194373505435,
          -0.8125674800454528,
          0.6644795974945954,
          -2.5671235219009967,
          2.524787135329005,
          0.2633193145367898,
          -2.2169152055147165,
          0.4266830933827248,
          -1.4132797740328602,
          6.538721154906984,
          3.334043713767181,
          0.14295644477619085,
          1.656625788672011,
          1.1282286142915112,
          5.512262215782238,
          -0.3848252561797305,
          3.618462150791154,
          2.481127011395217,
          4.129883774643438,
          -0.12152461395787473,
          -2.693547670572368,
          -1.511310251919209,
          0.2663254060813536,
          -3.753571896106643,
          3.6269405929354948,
          1.1226090063374627,
          3.2524065583532686,
          7.923004446184961,
          0.09804177427181782,
          3.536492853480443,
          -4.036785881911605,
          1.7236455497354601,
          -0.020882021920295646,
          2.9142985881097165,
          -1.0804925770079863,
          4.124722015037243,
          0.17100484250814119,
          8.967017614484703,
          1.6474184193979156,
          2.3484424245774447,
          0.8569204336442524,
          -1.8643130337730716,
          1.7007753860471686,
          4.054416767528621,
          -1.9475078927753824,
          4.136586979503275,
          1.6541628424275605,
          -1.3252099048373527,
          0.9006280938890516,
          1.9287531675611411,
          1.8703883151459357,
          -0.10354564422250068,
          2.8788165946046966,
          -1.4167982561396828,
          1.5822664729414302,
          -0.05883330613582327,
          4.296832524046773,
          4.375026453640677,
          -5.922249192557345,
          -3.2124042288802803,
          0.0032348282212284474,
          5.260795719380905,
          -0.008245311653169107,
          0.7324996245551039,
          0.9611868882578218,
          3.790832014619513,
          -0.23716425028645105,
          6.148863065740292,
          0.0983867216278207,
          -3.473941129037067,
          0.616300079409035,
          4.150638968754886,
          4.8508126437757895,
          2.0082211866252138,
          1.48330704068868,
          1.2520669107509785,
          2.896592637381766,
          4.580161313653788,
          2.20375246638315,
          3.9852109166216616,
          1.4345564929409629,
          -3.0390499368638855,
          -4.71142516677369,
          2.1711591769534424,
          -0.9012646916195739,
          6.9996723180555565,
          3.757138354990886,
          0.9949722751612806,
          1.1797554331892894,
          4.629039294309887,
          6.455003668155411,
          0.2593057106639196,
          4.355257066368136
         ],
         "z": [
          1.3719536878191567,
          3.8497157025552964,
          5.535582833263507,
          8.666607848337314,
          4.6688123769268755,
          5.304810309571191,
          3.6883125361509874,
          1.7415001095432157,
          6.264643113769472,
          2.077292266229064,
          -0.059309696347904506,
          3.7422357773708894,
          8.711863637149245,
          5.438274886254911,
          -1.638602077223391,
          4.77283423476033,
          7.910926873801624,
          3.3968790757223832,
          0.04373351591146424,
          10.156113513143758,
          2.989564422614831,
          6.63625839494412,
          3.665566486806484,
          5.464494821026176,
          0.7618907750811537,
          5.588782939039643,
          5.211203020667734,
          3.2155638294869755,
          3.2251278428267662,
          -0.8750604795466401,
          3.0984445188236043,
          5.692134094025713,
          4.459623514836807,
          4.6907360597206225,
          0.5993098663874319,
          2.2493570546274504,
          2.5672383331551436,
          4.472283354137626,
          7.006266788310951,
          -0.3049437313832808,
          9.99145485554014,
          3.764012820011337,
          7.4671425082418,
          7.971122538595672,
          7.2337044368995285,
          6.423506832024234,
          9.661398809165895,
          5.509755417782495,
          0.2605101440210511,
          7.211977451922424,
          10.134650884396269,
          2.0614228931261165,
          8.745331701751663,
          7.021921302274546,
          10.03398218674549,
          6.711156514837576,
          3.8387570481758875,
          7.07040734214797,
          1.0055849556958067,
          8.28294501750948,
          3.854883706465378,
          9.851578512886416,
          5.526172836171721,
          5.921534901323842,
          4.399279002271443,
          6.333087212287889,
          3.678891060714405,
          1.0246028012568726,
          5.621962431242,
          6.208881638124709,
          7.137225788419632,
          7.654836191735949,
          2.919033513004263,
          9.443815492396489,
          1.8244717114713467,
          2.313352468362068,
          1.0639928023581202,
          2.990327193215088,
          10.092383488899348,
          4.566441051603963,
          6.8368762566530314,
          -0.3305259628844448,
          5.2546151632229385,
          5.259970286277453,
          2.3507105475479495,
          6.348570882293271,
          2.2351379941977885,
          4.35622480452356,
          0.1789334471943338,
          -2.3664221292248904,
          -0.5023856393718527,
          4.460282565231314,
          8.932831113668598,
          5.104939935495938,
          0.7995068342247977,
          3.789148333781646,
          6.774299789339585,
          8.313371175757567,
          3.5856497947206107,
          6.269578519616184,
          -3.9532044729945666,
          -1.3164290676791293,
          0.603212491009063,
          1.849318305511843,
          -0.5015936302698925,
          -0.33248541966970846,
          2.0351188666031823,
          0.7708922049560087,
          -0.1402816671602225,
          2.3421080812583233,
          1.087449642538932,
          1.5942067685387642,
          0.18389847072991583,
          -0.5822959901486453,
          2.1458137987222132,
          3.241257965067917,
          -5.312291415102661,
          2.9283877650286736,
          -0.29415178304845613,
          0.004291021732751865,
          -4.130347759051993,
          4.1365194360484,
          -3.501609323469605,
          -0.8297002495012615,
          -0.060321591497348725,
          2.9819110909059545,
          -3.252428206247229,
          2.7288017972595524,
          -0.6227854029581259,
          0.739961771129298,
          1.4639994503194225,
          1.162929921071921,
          1.189864158744287,
          -7.420114609342013,
          2.067943628001716,
          -0.27519646562486644,
          0.5493518428348373,
          7.091142244015895,
          3.958181795085336,
          5.50679482267533,
          2.724195163364289,
          4.531099528986039,
          4.803202348632932,
          -0.5454176954444263,
          -2.282383808226705,
          4.308337747746023,
          2.6465246991978177,
          2.007831323480493,
          5.872055698792501,
          -1.1428709520526144,
          -0.484495702227723,
          -3.1424888574547296,
          0.41894334549913614,
          4.130895077866725,
          -1.2943695986565378,
          1.180718427889159,
          0.03700208276821404,
          0.5757478310644129,
          -1.5413153057242952,
          -1.7750815890486469,
          -0.03921309343914303,
          7.667834151832565,
          3.7274458348464212,
          -2.6691712056732717,
          -2.6539782606420164,
          2.716622233016079,
          2.2504670453556814,
          5.876316048507553,
          -0.4624937516162262,
          -2.744568549344425,
          0.05659717438440959,
          1.3677752257550289,
          1.9466270309174587,
          -3.4157107614667988,
          -1.170683893711876,
          -0.6659042769653958,
          -0.5362583521835231,
          2.7587385549684744,
          0.9089763271967448,
          1.917558611341723,
          1.3804481648326057,
          -0.28688488216241415,
          -2.4863703344720838,
          -2.0817071728508054,
          0.14928791945509023,
          2.379173988780806,
          -3.8142065659624214,
          3.5382003961802835,
          2.059505086123127,
          -2.1698568709688737,
          -4.072481647027924,
          -3.517841362452824,
          1.3903469263999386,
          0.22963835839247337,
          -3.9517589060151606,
          -1.386812975496933,
          4.320969259910657,
          3.4553194783216328,
          -2.4500272979432465,
          1.9665421123548037
         ]
        }
       ],
       "layout": {
        "legend": {
         "tracegroupgap": 0
        },
        "margin": {
         "b": 0,
         "l": 0,
         "r": 0,
         "t": 0
        },
        "scene": {
         "domain": {
          "x": [
           0,
           1
          ],
          "y": [
           0,
           1
          ]
         },
         "xaxis": {
          "title": {
           "text": "x"
          }
         },
         "yaxis": {
          "title": {
           "text": "y"
          }
         },
         "zaxis": {
          "title": {
           "text": "z"
          }
         }
        },
        "template": {
         "data": {
          "bar": [
           {
            "error_x": {
             "color": "#2a3f5f"
            },
            "error_y": {
             "color": "#2a3f5f"
            },
            "marker": {
             "line": {
              "color": "#E5ECF6",
              "width": 0.5
             },
             "pattern": {
              "fillmode": "overlay",
              "size": 10,
              "solidity": 0.2
             }
            },
            "type": "bar"
           }
          ],
          "barpolar": [
           {
            "marker": {
             "line": {
              "color": "#E5ECF6",
              "width": 0.5
             },
             "pattern": {
              "fillmode": "overlay",
              "size": 10,
              "solidity": 0.2
             }
            },
            "type": "barpolar"
           }
          ],
          "carpet": [
           {
            "aaxis": {
             "endlinecolor": "#2a3f5f",
             "gridcolor": "white",
             "linecolor": "white",
             "minorgridcolor": "white",
             "startlinecolor": "#2a3f5f"
            },
            "baxis": {
             "endlinecolor": "#2a3f5f",
             "gridcolor": "white",
             "linecolor": "white",
             "minorgridcolor": "white",
             "startlinecolor": "#2a3f5f"
            },
            "type": "carpet"
           }
          ],
          "choropleth": [
           {
            "colorbar": {
             "outlinewidth": 0,
             "ticks": ""
            },
            "type": "choropleth"
           }
          ],
          "contour": [
           {
            "colorbar": {
             "outlinewidth": 0,
             "ticks": ""
            },
            "colorscale": [
             [
              0,
              "#0d0887"
             ],
             [
              0.1111111111111111,
              "#46039f"
             ],
             [
              0.2222222222222222,
              "#7201a8"
             ],
             [
              0.3333333333333333,
              "#9c179e"
             ],
             [
              0.4444444444444444,
              "#bd3786"
             ],
             [
              0.5555555555555556,
              "#d8576b"
             ],
             [
              0.6666666666666666,
              "#ed7953"
             ],
             [
              0.7777777777777778,
              "#fb9f3a"
             ],
             [
              0.8888888888888888,
              "#fdca26"
             ],
             [
              1,
              "#f0f921"
             ]
            ],
            "type": "contour"
           }
          ],
          "contourcarpet": [
           {
            "colorbar": {
             "outlinewidth": 0,
             "ticks": ""
            },
            "type": "contourcarpet"
           }
          ],
          "heatmap": [
           {
            "colorbar": {
             "outlinewidth": 0,
             "ticks": ""
            },
            "colorscale": [
             [
              0,
              "#0d0887"
             ],
             [
              0.1111111111111111,
              "#46039f"
             ],
             [
              0.2222222222222222,
              "#7201a8"
             ],
             [
              0.3333333333333333,
              "#9c179e"
             ],
             [
              0.4444444444444444,
              "#bd3786"
             ],
             [
              0.5555555555555556,
              "#d8576b"
             ],
             [
              0.6666666666666666,
              "#ed7953"
             ],
             [
              0.7777777777777778,
              "#fb9f3a"
             ],
             [
              0.8888888888888888,
              "#fdca26"
             ],
             [
              1,
              "#f0f921"
             ]
            ],
            "type": "heatmap"
           }
          ],
          "heatmapgl": [
           {
            "colorbar": {
             "outlinewidth": 0,
             "ticks": ""
            },
            "colorscale": [
             [
              0,
              "#0d0887"
             ],
             [
              0.1111111111111111,
              "#46039f"
             ],
             [
              0.2222222222222222,
              "#7201a8"
             ],
             [
              0.3333333333333333,
              "#9c179e"
             ],
             [
              0.4444444444444444,
              "#bd3786"
             ],
             [
              0.5555555555555556,
              "#d8576b"
             ],
             [
              0.6666666666666666,
              "#ed7953"
             ],
             [
              0.7777777777777778,
              "#fb9f3a"
             ],
             [
              0.8888888888888888,
              "#fdca26"
             ],
             [
              1,
              "#f0f921"
             ]
            ],
            "type": "heatmapgl"
           }
          ],
          "histogram": [
           {
            "marker": {
             "pattern": {
              "fillmode": "overlay",
              "size": 10,
              "solidity": 0.2
             }
            },
            "type": "histogram"
           }
          ],
          "histogram2d": [
           {
            "colorbar": {
             "outlinewidth": 0,
             "ticks": ""
            },
            "colorscale": [
             [
              0,
              "#0d0887"
             ],
             [
              0.1111111111111111,
              "#46039f"
             ],
             [
              0.2222222222222222,
              "#7201a8"
             ],
             [
              0.3333333333333333,
              "#9c179e"
             ],
             [
              0.4444444444444444,
              "#bd3786"
             ],
             [
              0.5555555555555556,
              "#d8576b"
             ],
             [
              0.6666666666666666,
              "#ed7953"
             ],
             [
              0.7777777777777778,
              "#fb9f3a"
             ],
             [
              0.8888888888888888,
              "#fdca26"
             ],
             [
              1,
              "#f0f921"
             ]
            ],
            "type": "histogram2d"
           }
          ],
          "histogram2dcontour": [
           {
            "colorbar": {
             "outlinewidth": 0,
             "ticks": ""
            },
            "colorscale": [
             [
              0,
              "#0d0887"
             ],
             [
              0.1111111111111111,
              "#46039f"
             ],
             [
              0.2222222222222222,
              "#7201a8"
             ],
             [
              0.3333333333333333,
              "#9c179e"
             ],
             [
              0.4444444444444444,
              "#bd3786"
             ],
             [
              0.5555555555555556,
              "#d8576b"
             ],
             [
              0.6666666666666666,
              "#ed7953"
             ],
             [
              0.7777777777777778,
              "#fb9f3a"
             ],
             [
              0.8888888888888888,
              "#fdca26"
             ],
             [
              1,
              "#f0f921"
             ]
            ],
            "type": "histogram2dcontour"
           }
          ],
          "mesh3d": [
           {
            "colorbar": {
             "outlinewidth": 0,
             "ticks": ""
            },
            "type": "mesh3d"
           }
          ],
          "parcoords": [
           {
            "line": {
             "colorbar": {
              "outlinewidth": 0,
              "ticks": ""
             }
            },
            "type": "parcoords"
           }
          ],
          "pie": [
           {
            "automargin": true,
            "type": "pie"
           }
          ],
          "scatter": [
           {
            "marker": {
             "colorbar": {
              "outlinewidth": 0,
              "ticks": ""
             }
            },
            "type": "scatter"
           }
          ],
          "scatter3d": [
           {
            "line": {
             "colorbar": {
              "outlinewidth": 0,
              "ticks": ""
             }
            },
            "marker": {
             "colorbar": {
              "outlinewidth": 0,
              "ticks": ""
             }
            },
            "type": "scatter3d"
           }
          ],
          "scattercarpet": [
           {
            "marker": {
             "colorbar": {
              "outlinewidth": 0,
              "ticks": ""
             }
            },
            "type": "scattercarpet"
           }
          ],
          "scattergeo": [
           {
            "marker": {
             "colorbar": {
              "outlinewidth": 0,
              "ticks": ""
             }
            },
            "type": "scattergeo"
           }
          ],
          "scattergl": [
           {
            "marker": {
             "colorbar": {
              "outlinewidth": 0,
              "ticks": ""
             }
            },
            "type": "scattergl"
           }
          ],
          "scattermapbox": [
           {
            "marker": {
             "colorbar": {
              "outlinewidth": 0,
              "ticks": ""
             }
            },
            "type": "scattermapbox"
           }
          ],
          "scatterpolar": [
           {
            "marker": {
             "colorbar": {
              "outlinewidth": 0,
              "ticks": ""
             }
            },
            "type": "scatterpolar"
           }
          ],
          "scatterpolargl": [
           {
            "marker": {
             "colorbar": {
              "outlinewidth": 0,
              "ticks": ""
             }
            },
            "type": "scatterpolargl"
           }
          ],
          "scatterternary": [
           {
            "marker": {
             "colorbar": {
              "outlinewidth": 0,
              "ticks": ""
             }
            },
            "type": "scatterternary"
           }
          ],
          "surface": [
           {
            "colorbar": {
             "outlinewidth": 0,
             "ticks": ""
            },
            "colorscale": [
             [
              0,
              "#0d0887"
             ],
             [
              0.1111111111111111,
              "#46039f"
             ],
             [
              0.2222222222222222,
              "#7201a8"
             ],
             [
              0.3333333333333333,
              "#9c179e"
             ],
             [
              0.4444444444444444,
              "#bd3786"
             ],
             [
              0.5555555555555556,
              "#d8576b"
             ],
             [
              0.6666666666666666,
              "#ed7953"
             ],
             [
              0.7777777777777778,
              "#fb9f3a"
             ],
             [
              0.8888888888888888,
              "#fdca26"
             ],
             [
              1,
              "#f0f921"
             ]
            ],
            "type": "surface"
           }
          ],
          "table": [
           {
            "cells": {
             "fill": {
              "color": "#EBF0F8"
             },
             "line": {
              "color": "white"
             }
            },
            "header": {
             "fill": {
              "color": "#C8D4E3"
             },
             "line": {
              "color": "white"
             }
            },
            "type": "table"
           }
          ]
         },
         "layout": {
          "annotationdefaults": {
           "arrowcolor": "#2a3f5f",
           "arrowhead": 0,
           "arrowwidth": 1
          },
          "autotypenumbers": "strict",
          "coloraxis": {
           "colorbar": {
            "outlinewidth": 0,
            "ticks": ""
           }
          },
          "colorscale": {
           "diverging": [
            [
             0,
             "#8e0152"
            ],
            [
             0.1,
             "#c51b7d"
            ],
            [
             0.2,
             "#de77ae"
            ],
            [
             0.3,
             "#f1b6da"
            ],
            [
             0.4,
             "#fde0ef"
            ],
            [
             0.5,
             "#f7f7f7"
            ],
            [
             0.6,
             "#e6f5d0"
            ],
            [
             0.7,
             "#b8e186"
            ],
            [
             0.8,
             "#7fbc41"
            ],
            [
             0.9,
             "#4d9221"
            ],
            [
             1,
             "#276419"
            ]
           ],
           "sequential": [
            [
             0,
             "#0d0887"
            ],
            [
             0.1111111111111111,
             "#46039f"
            ],
            [
             0.2222222222222222,
             "#7201a8"
            ],
            [
             0.3333333333333333,
             "#9c179e"
            ],
            [
             0.4444444444444444,
             "#bd3786"
            ],
            [
             0.5555555555555556,
             "#d8576b"
            ],
            [
             0.6666666666666666,
             "#ed7953"
            ],
            [
             0.7777777777777778,
             "#fb9f3a"
            ],
            [
             0.8888888888888888,
             "#fdca26"
            ],
            [
             1,
             "#f0f921"
            ]
           ],
           "sequentialminus": [
            [
             0,
             "#0d0887"
            ],
            [
             0.1111111111111111,
             "#46039f"
            ],
            [
             0.2222222222222222,
             "#7201a8"
            ],
            [
             0.3333333333333333,
             "#9c179e"
            ],
            [
             0.4444444444444444,
             "#bd3786"
            ],
            [
             0.5555555555555556,
             "#d8576b"
            ],
            [
             0.6666666666666666,
             "#ed7953"
            ],
            [
             0.7777777777777778,
             "#fb9f3a"
            ],
            [
             0.8888888888888888,
             "#fdca26"
            ],
            [
             1,
             "#f0f921"
            ]
           ]
          },
          "colorway": [
           "#636efa",
           "#EF553B",
           "#00cc96",
           "#ab63fa",
           "#FFA15A",
           "#19d3f3",
           "#FF6692",
           "#B6E880",
           "#FF97FF",
           "#FECB52"
          ],
          "font": {
           "color": "#2a3f5f"
          },
          "geo": {
           "bgcolor": "white",
           "lakecolor": "white",
           "landcolor": "#E5ECF6",
           "showlakes": true,
           "showland": true,
           "subunitcolor": "white"
          },
          "hoverlabel": {
           "align": "left"
          },
          "hovermode": "closest",
          "mapbox": {
           "style": "light"
          },
          "paper_bgcolor": "white",
          "plot_bgcolor": "#E5ECF6",
          "polar": {
           "angularaxis": {
            "gridcolor": "white",
            "linecolor": "white",
            "ticks": ""
           },
           "bgcolor": "#E5ECF6",
           "radialaxis": {
            "gridcolor": "white",
            "linecolor": "white",
            "ticks": ""
           }
          },
          "scene": {
           "xaxis": {
            "backgroundcolor": "#E5ECF6",
            "gridcolor": "white",
            "gridwidth": 2,
            "linecolor": "white",
            "showbackground": true,
            "ticks": "",
            "zerolinecolor": "white"
           },
           "yaxis": {
            "backgroundcolor": "#E5ECF6",
            "gridcolor": "white",
            "gridwidth": 2,
            "linecolor": "white",
            "showbackground": true,
            "ticks": "",
            "zerolinecolor": "white"
           },
           "zaxis": {
            "backgroundcolor": "#E5ECF6",
            "gridcolor": "white",
            "gridwidth": 2,
            "linecolor": "white",
            "showbackground": true,
            "ticks": "",
            "zerolinecolor": "white"
           }
          },
          "shapedefaults": {
           "line": {
            "color": "#2a3f5f"
           }
          },
          "ternary": {
           "aaxis": {
            "gridcolor": "white",
            "linecolor": "white",
            "ticks": ""
           },
           "baxis": {
            "gridcolor": "white",
            "linecolor": "white",
            "ticks": ""
           },
           "bgcolor": "#E5ECF6",
           "caxis": {
            "gridcolor": "white",
            "linecolor": "white",
            "ticks": ""
           }
          },
          "title": {
           "x": 0.05
          },
          "xaxis": {
           "automargin": true,
           "gridcolor": "white",
           "linecolor": "white",
           "ticks": "",
           "title": {
            "standoff": 15
           },
           "zerolinecolor": "white",
           "zerolinewidth": 2
          },
          "yaxis": {
           "automargin": true,
           "gridcolor": "white",
           "linecolor": "white",
           "ticks": "",
           "title": {
            "standoff": 15
           },
           "zerolinecolor": "white",
           "zerolinewidth": 2
          }
         }
        }
       }
      }
     },
     "metadata": {},
     "output_type": "display_data"
    }
   ],
   "source": [
    "X, int_labels = make_blobs(n_samples=200, centers=2, n_features=2,\n",
    "                            cluster_std=3, random_state=0, shuffle=False)\n",
    "cluster_size = X.shape[0]//2\n",
    "z = np.concatenate([2*np.ones(cluster_size), -2*np.ones(cluster_size)])\n",
    "\n",
    "\n",
    "X = np.c_[z, X]\n",
    "\n",
    "# plot 3D \n",
    "\n",
    "fig = px.scatter_3d(x=X[:, 0],\n",
    "                    y=X[:, 1],\n",
    "                    z=X[:, 2],\n",
    "                    size_max=0.1)\n",
    "\n",
    "fig.update_layout(margin=dict(l=0, r=0, b=0, t=0))"
   ]
  },
  {
   "cell_type": "code",
   "execution_count": 4,
   "metadata": {},
   "outputs": [
    {
     "data": {
      "image/png": "[encoded data removed]",
      "text/plain": [
       "<Figure size 800x600 with 1 Axes>"
      ]
     },
     "metadata": {
      "image/png": {
       "height": 521,
       "width": 706
      }
     },
     "output_type": "display_data"
    },
    {
     "data": {
      "image/png": "[encoded data removed]",
      "text/plain": [
       "<Figure size 800x600 with 1 Axes>"
      ]
     },
     "metadata": {
      "image/png": {
       "height": 553,
       "width": 695
      }
     },
     "output_type": "display_data"
    },
    {
     "data": {
      "image/png": "[encoded data removed]",
      "text/plain": [
       "<Figure size 800x600 with 1 Axes>"
      ]
     },
     "metadata": {
      "image/png": {
       "height": 553,
       "width": 695
      }
     },
     "output_type": "display_data"
    }
   ],
   "source": [
    "X_pca, _ = compute_PCA(X, n_components=2)\n",
    "\n",
    "# what we see if we do not have labels (which is usually the case)\n",
    "fig, ax = plot_2D_embedding(X_pca)\n",
    "# even if we have labels, it is confusing to see the clusters\n",
    "fig, ax = plot_2D_embedding(X_pca, cluster_labels=int_labels)\n"
   ]
  },
  {
   "cell_type": "markdown",
   "metadata": {},
   "source": [
    "## KMeans"
   ]
  },
  {
   "cell_type": "code",
   "execution_count": 5,
   "metadata": {},
   "outputs": [
    {
     "name": "stdout",
     "output_type": "stream",
     "text": [
      "Number of clusters: 1\n",
      "Adjusted Rand Index:  0.000\n",
      "Number of clusters: 2\n",
      "Adjusted Rand Index:  0.446\n",
      "The average silhouette_score is : 0.35393467748134533\n",
      "Number of clusters: 3\n",
      "Adjusted Rand Index:  0.285\n",
      "The average silhouette_score is : 0.3151233684310002\n",
      "Number of clusters: 4\n",
      "Adjusted Rand Index:  0.240\n",
      "The average silhouette_score is : 0.2887920805244412\n",
      "Number of clusters: 5\n",
      "Adjusted Rand Index:  0.194\n",
      "The average silhouette_score is : 0.2947662276510764\n",
      "Number of clusters: 6\n",
      "Adjusted Rand Index:  0.280\n",
      "The average silhouette_score is : 0.3163849968354373\n",
      "Number of clusters: 7\n",
      "Adjusted Rand Index:  0.235\n",
      "The average silhouette_score is : 0.3182999832777801\n",
      "Number of clusters: 8\n",
      "Adjusted Rand Index:  0.232\n",
      "The average silhouette_score is : 0.3186054024813382\n",
      "Number of clusters: 9\n",
      "Adjusted Rand Index:  0.221\n",
      "The average silhouette_score is : 0.3212677182400617\n"
     ]
    },
    {
     "data": {
      "image/png": "[encoded data removed]",
      "text/plain": [
       "<Figure size 600x400 with 1 Axes>"
      ]
     },
     "metadata": {
      "image/png": {
       "height": 390,
       "width": 553
      }
     },
     "output_type": "display_data"
    }
   ],
   "source": [
    "Sum_of_squared_distances = []\n",
    "K = range(1,10)\n",
    "for k in K:\n",
    "    km = KMeans(n_clusters=k, n_init=100, algorithm='full')\n",
    "    km = km.fit(X)\n",
    "    # labels \n",
    "    cluster_labels = km.labels_\n",
    "    Sum_of_squared_distances.append(km.inertia_)\n",
    "    print(f\"Number of clusters: {k}\")\n",
    "    print(f\"Adjusted Rand Index: {metrics.adjusted_rand_score(int_labels, cluster_labels): .3f}\")\n",
    "    if k>1:\n",
    "        silhouette_avg = metrics.silhouette_score(X, cluster_labels)\n",
    "        print(\"The average silhouette_score is :\", silhouette_avg)\n",
    "\n",
    "plt.plot(K, Sum_of_squared_distances, 'bx-')\n",
    "plt.xlabel('k')\n",
    "plt.ylabel('Sum_of_squared_distances')\n",
    "plt.title('Elbow Method For Optimal k')\n",
    "plt.show()"
   ]
  },
  {
   "cell_type": "markdown",
   "metadata": {},
   "source": [
    "# Fake Clusters\n"
   ]
  },
  {
   "cell_type": "code",
   "execution_count": 7,
   "metadata": {},
   "outputs": [
    {
     "data": {
      "application/vnd.plotly.v1+json": {
       "config": {
        "plotlyServerURL": "https://plot.ly"
       },
       "data": [
        {
         "hovertemplate": "x=%{x}<br>y=%{y}<br>z=%{z}<extra></extra>",
         "legendgroup": "",
         "marker": {
          "color": "#636efa",
          "symbol": "circle"
         },
         "mode": "markers",
         "name": "",
         "scene": "scene",
         "showlegend": false,
         "type": "scatter3d",
         "x": [
          2,
          -4.363636363636363,
          2,
          2,
          -0.7272727272727273,
          -3.1515151515151514,
          -4.424242424242425,
          -1.9393939393939394,
          2,
          2,
          -5.454545454545455,
          -4.666666666666667,
          -5.757575757575758,
          2,
          -0.6666666666666667,
          2,
          -1.2121212121212122,
          -4.606060606060606,
          -3.757575757575758,
          -1.4545454545454546,
          -5.151515151515151,
          -3.5757575757575757,
          -4.484848484848485,
          -5.212121212121212,
          -4.181818181818182,
          -2.484848484848485,
          -0.6060606060606061,
          -5.818181818181818,
          2,
          -2.4242424242424243,
          -4,
          2,
          -3.6969696969696972,
          -1.696969696969697,
          -0.42424242424242425,
          2,
          -1.5757575757575757,
          -3.8181818181818183,
          -3.0303030303030303,
          2,
          -0.8484848484848485,
          2,
          2,
          -2.787878787878788,
          -4.303030303030303,
          2,
          -2.3636363636363638,
          2,
          2,
          2,
          2,
          2,
          -4.242424242424242,
          -1.0303030303030303,
          2,
          -0.36363636363636365,
          -1.393939393939394,
          2,
          -1.7575757575757576,
          2,
          -4.121212121212121,
          -5.2727272727272725,
          2,
          -3.090909090909091,
          -1.1515151515151516,
          2,
          2,
          2,
          -4.96969696969697,
          2,
          -0.06060606060606061,
          2,
          2,
          2,
          2,
          -0.24242424242424243,
          2,
          -0.18181818181818182,
          2,
          -2.2424242424242427,
          2,
          2,
          2,
          -2.8484848484848486,
          -4.848484848484849,
          -5.696969696969697,
          2,
          2,
          2,
          -0.48484848484848486,
          2,
          2,
          2,
          2,
          -5.333333333333334,
          0,
          2,
          2,
          2,
          -5.575757575757576,
          2,
          2,
          2,
          -2.909090909090909,
          -2.666666666666667,
          -0.9090909090909092,
          2,
          -3.4545454545454546,
          2,
          2,
          -4.909090909090909,
          2,
          -0.5454545454545454,
          2,
          -1.3333333333333335,
          2,
          2,
          -2.0606060606060606,
          -1.8181818181818183,
          2,
          2,
          -5.9393939393939394,
          2,
          2,
          -6,
          2,
          2,
          -4.545454545454546,
          2,
          -1.5151515151515151,
          2,
          2,
          2,
          -3.6363636363636367,
          2,
          2,
          2,
          2,
          2,
          -1.0909090909090908,
          2,
          -5.3939393939393945,
          -5.515151515151516,
          -0.7878787878787878,
          -1.2727272727272727,
          2,
          -2.606060606060606,
          -2.5454545454545454,
          -3.272727272727273,
          -3.9393939393939394,
          2,
          2,
          2,
          2,
          2,
          2,
          -5.878787878787879,
          2,
          -1.6363636363636365,
          2,
          -4.787878787878788,
          -2.7272727272727275,
          -3.515151515151515,
          2,
          -2.9696969696969697,
          -2.1818181818181817,
          2,
          -3.2121212121212124,
          -3.393939393939394,
          -4.0606060606060606,
          2,
          -1.878787878787879,
          2,
          2,
          -3.3333333333333335,
          -5.03030303030303,
          -0.30303030303030304,
          2,
          -2,
          2,
          2,
          -4.7272727272727275,
          -5.090909090909091,
          -5.636363636363637,
          2,
          -2.121212121212121,
          2,
          2,
          2,
          -0.9696969696969697,
          2,
          2,
          -0.12121212121212122,
          2,
          2,
          -3.878787878787879,
          2,
          2,
          2,
          -2.303030303030303
         ],
         "y": [
          1.8569285529348676,
          -1.6005459942845754,
          -1.1773085349876355,
          1.542909652320502,
          2.2188331982102882,
          -1.5349817772448575,
          -0.3337745095185487,
          2.835348527148683,
          0.8423635743957223,
          0.8496307421550561,
          -4.046718891791288,
          1.2058560231609485,
          0.9198825695451364,
          0.5991563927198988,
          -0.5668100600350554,
          -0.12714339954097564,
          0.5562854162110137,
          1.1571961214612299,
          2.247535222307694,
          0.10568057093590455,
          1.8652862246965056,
          0.5694620043334706,
          0.12345156893017495,
          2.3372232024227055,
          -2.218485544965745,
          1.8505969180597948,
          1.7064880218500045,
          1.3952054743523072,
          1.4992777387384597,
          0.2495195850552583,
          0.11549810522564119,
          0.09077279690224427,
          1.9650153475169694,
          0.22385459017034903,
          0.7742255209596673,
          1.413255541198861,
          0.7795289831443315,
          -0.7618654762282873,
          2.91952378736757,
          -0.2388092479924515,
          1.75914762993317,
          1.4813338006607766,
          2.2350860676449855,
          1.5354972041024966,
          -1.1879278850016202,
          -1.4620101990909946,
          0.7666731269336344,
          3.608758283365522,
          2.1640282166309937,
          2.3573638029144925,
          2.738362672895636,
          -1.9241716805727247,
          2.356856133159048,
          1.3736602540845126,
          -0.9926814286158872,
          -3.4811989109574863,
          -0.765702183659454,
          -1.6185387258075568,
          2.6721368659648084,
          0.8233731910252635,
          3.2057489323918205,
          0.5826163090373706,
          0.3508579974836423,
          0.2067371492219927,
          1.3753108093350939,
          2.4503482248694537,
          1.2316433449099262,
          -2.2295760964537266,
          0.8074682315367435,
          1.7042133007163998,
          1.1905242557544504,
          2.076592799687841,
          2.1705944451335797,
          -0.3323514511374781,
          1.0430392436404208,
          2.3139280796075923,
          3.0682664536973254,
          1.3912526006059496,
          1.4295117439092775,
          1.3775835423530105,
          -0.05652778657787527,
          0.7067999564006728,
          2.057930910094157,
          -0.6776232337299584,
          1.628006784687957,
          1.612228838926157,
          -0.27188742296375934,
          1.7656122729146508,
          1.6391777831819765,
          0.8134830155485768,
          0.4214130503027609,
          2.3786949561703885,
          2.7511473670149442,
          -0.33973376916776266,
          1.958852724819561,
          1.5598330306506787,
          1.37418899075544,
          2.6553204695961035,
          2.8905525869640174,
          2.371651724897296,
          2.5852412140371417,
          0.5766275468913162,
          2.3909949692693644,
          -1.8255252160657118,
          0.5624951629014041,
          0.7652634695883518,
          2.693473249766725,
          -1.4549698993800821,
          0.44587027127298207,
          0.9459053038103737,
          2.8365261226351803,
          1.147907862134744,
          1.499687536709272,
          -0.41529806601473274,
          0.8891568517154964,
          3.018915215352056,
          -1.33501890963755,
          2.443590250881842,
          3.4476210582341165,
          -2.3759235144842537,
          4.443404564087106,
          1.102459878014408,
          -0.3777619754297179,
          -0.5039064156342876,
          2.512830762220429,
          -0.26025948760013273,
          -0.2500926821020315,
          3.9838056400931645,
          1.9105683050068292,
          4.633865074707378,
          0.4593549268585053,
          2.3114369034304847,
          3.0521540152638673,
          -1.5353919303988577,
          2.311773993204903,
          0.9280895817807218,
          0.7815967406985114,
          3.4306675185910662,
          2.163340841197936,
          0.4237542097744479,
          1.6983057773722319,
          1.005099561583166,
          2.963822311838805,
          0.012418947112357026,
          -0.996968250556201,
          4.221034825043388,
          0.8142099827307805,
          0.42223901505786243,
          2.9927916816667484,
          2.589163018474413,
          -0.5790619759395126,
          3.6341787451616305,
          3.3491408459189187,
          -1.6387837464706179,
          -0.3331186594254001,
          -1.1426234811205065,
          -0.3562473739563672,
          -0.3697930851404623,
          1.8056238775327476,
          2.163074714663953,
          0.19242407871413658,
          1.20711296281661,
          0.4194000828729748,
          -0.585965496975223,
          2.256893758517104,
          -2.4012227518930818,
          0.19291252722137386,
          -1.2168261724924085,
          2.7769548676448865,
          3.418783720287891,
          -3.3859936649383924,
          2.2467975866745213,
          -1.1645847594172682,
          -2.9844784161438125,
          2.204557645129972,
          1.774139025906179,
          -1.1914677225145458,
          -0.32336715280726436,
          1.1939109315468914,
          1.3779395283911686,
          -0.6109920706655592,
          1.7889029159127001,
          1.2239708805115184,
          2.1362629860615034,
          2.9019437577018525,
          1.022225444802491,
          2.315815552659219,
          1.5005085482335354,
          0.7065290319938904,
          -2.4915080963698064,
          1.6575091378169335,
          1.6840205039028935,
          -1.8356874546756234,
          0.8887667477631958,
          1.0819241104628452,
          -0.6934894469724826,
          0.24628721541909937,
          3.1974065077891645,
          2.5852549908622495,
          0.5081799292184438
         ],
         "z": [
          -0.8924266308329853,
          0.4703453949481302,
          0.6410268623932578,
          0.4031863520982184,
          2.428896697940252,
          0.27853522882549797,
          1.670870031963354,
          3.2117479817317314,
          -2.145893068488843,
          -0.9923996881213308,
          2.1647221181845113,
          0.7091823391744276,
          -2.5327293392910324,
          -2.9755019406239454,
          -1.1604870014188542,
          -3.2904599949141944,
          -0.35631522693336204,
          -1.3512959882446869,
          2.132920192876198,
          2.7419166614731982,
          3.364905268103822,
          0.16035127539612914,
          -0.11017997313185046,
          -0.38434216488823214,
          1.7842381641274287,
          3.599214810670514,
          1.9970456429958094,
          0.6319448834884639,
          -2.4862451187252512,
          0.5546923218241775,
          3.2460992976975107,
          1.011905889234721,
          1.1185735855604166,
          -0.6651231741233556,
          1.1767461800319032,
          -3.0640406010659693,
          0.11014220003557651,
          -1.6723859933773841,
          0.03643680678434413,
          0.5343127704222725,
          0.5158172468062524,
          -1.3887658774833658,
          0.1825339614879804,
          -0.2477568312905012,
          0.1302699220982123,
          0.32922762950336315,
          -1.8729929421279978,
          -1.7585447206497924,
          0.9700855651042415,
          -2.4682182349618946,
          -1.810628219085312,
          -3.1863209636910863,
          1.5932109961519074,
          2.247259256050096,
          -1.5295876864957956,
          0.42378282015809776,
          0.48962279777750606,
          1.1670021203591192,
          1.139637500178435,
          -1.2024228612268448,
          1.38964880102992,
          0.8810788747996089,
          -1.1396381919638674,
          0.5480567848748586,
          2.6045064177366193,
          -1.0398183927347404,
          -1.2060127960910514,
          1.6361882740334255,
          -0.8185679425925263,
          0.7210424595573572,
          1.9932550794830342,
          -1.4535086463496554,
          -0.6284934688021699,
          -2.399870804940761,
          0.21314464498010954,
          -0.5334730872773514,
          -0.8934136890891496,
          1.0780234677733367,
          -2.0654985917988387,
          2.1533653551318443,
          0.7114911111387081,
          -3.426770612156176,
          -0.09776066285537077,
          -1.070009703084203,
          -1.712724555019753,
          -1.6884871659151584,
          -3.2087490112072596,
          -3.0613608164136337,
          0.6895137260187156,
          1.2045592046201017,
          0.195548783085725,
          -2.363720657658841,
          0.18281785105556247,
          -0.18747770048332302,
          3.0054373724253702,
          0.1338088134665003,
          -2.5559966990183614,
          -1.2066001882704984,
          -0.19587152343046754,
          -0.20505458090121653,
          -3.551045146462637,
          -3.1521350360968348,
          -0.2692484202579719,
          1.5124617527063569,
          0.6278905905287075,
          0.5552706473723164,
          -1.4993206639582293,
          2.2764783086750966,
          -3.264043811823633,
          -0.9113696918028199,
          0.766621719388348,
          0.2951560880967943,
          -0.3388580174012359,
          0.6682434430097395,
          1.451782839432128,
          0.3801397772899122,
          0.17121781309955408,
          1.244805137568625,
          1.1935490734670047,
          -5.68683199810493,
          -2.916933245965329,
          3.5645329494181826,
          -3.135632804133262,
          -1.2583580229926188,
          1.057386540278663,
          -1.9614084503558769,
          0.8250836812385673,
          1.2449324469902543,
          0.877361890500683,
          0.5829848281385858,
          0.5101672492028309,
          -0.4133757445951638,
          -2.2496678158936634,
          -2.211528861202642,
          -1.890437857306543,
          -2.317331319346616,
          0.16026107965190617,
          -0.4974468050494818,
          1.6544856661665106,
          0.5333744262210159,
          -0.30311717347995604,
          2.727352160101301,
          1.3286853114736799,
          1.8903117443094763,
          1.3137480354051139,
          -3.2529910212732664,
          0.27300576633244067,
          2.394641673457165,
          1.503607189587654,
          1.6465453038360156,
          -3.4003310878192825,
          -2.632860468295906,
          -1.6350283333459492,
          -2.478257416012781,
          -4.833557701288159,
          -0.21739647236349846,
          2.577909537106292,
          1.8893438965418041,
          2.0538825144777695,
          -2.6871202796619182,
          -0.08029237806770184,
          -0.5604732723629977,
          2.3255157048541655,
          0.8442501674898564,
          3.2462320852400075,
          0.4111899581359466,
          0.9309078961751982,
          0.15681051587096062,
          3.2891826474866277,
          1.0301694051375117,
          -1.8061480126931035,
          -0.19962461744660853,
          -1.1643181436134156,
          -3.4299671399898646,
          1.1698636204091823,
          1.32375313612736,
          1.0934902587800321,
          -2.387076230750749,
          -1.1484476367130672,
          -2.268249018416969,
          -0.7875112203463814,
          1.4679614101572969,
          -1.155366451601207,
          0.8758808898740629,
          -4.111607866129093,
          -1.5749223831178631,
          -0.5739696319086112,
          -0.15891023213443878,
          -1.1329521572614742,
          1.2102258628840166,
          -1.9167216843599497,
          2.349330416767673,
          0.45493147670450607,
          2.4300314277209525,
          -3.3202945247647753,
          1.8559920193381534,
          -3.5245738572649286,
          -0.3469158734634963,
          -0.7219114802039528,
          0.0444828801362297
         ]
        }
       ],
       "layout": {
        "legend": {
         "tracegroupgap": 0
        },
        "margin": {
         "b": 0,
         "l": 0,
         "r": 0,
         "t": 0
        },
        "scene": {
         "domain": {
          "x": [
           0,
           1
          ],
          "y": [
           0,
           1
          ]
         },
         "xaxis": {
          "title": {
           "text": "x"
          }
         },
         "yaxis": {
          "title": {
           "text": "y"
          }
         },
         "zaxis": {
          "title": {
           "text": "z"
          }
         }
        },
        "template": {
         "data": {
          "bar": [
           {
            "error_x": {
             "color": "#2a3f5f"
            },
            "error_y": {
             "color": "#2a3f5f"
            },
            "marker": {
             "line": {
              "color": "#E5ECF6",
              "width": 0.5
             },
             "pattern": {
              "fillmode": "overlay",
              "size": 10,
              "solidity": 0.2
             }
            },
            "type": "bar"
           }
          ],
          "barpolar": [
           {
            "marker": {
             "line": {
              "color": "#E5ECF6",
              "width": 0.5
             },
             "pattern": {
              "fillmode": "overlay",
              "size": 10,
              "solidity": 0.2
             }
            },
            "type": "barpolar"
           }
          ],
          "carpet": [
           {
            "aaxis": {
             "endlinecolor": "#2a3f5f",
             "gridcolor": "white",
             "linecolor": "white",
             "minorgridcolor": "white",
             "startlinecolor": "#2a3f5f"
            },
            "baxis": {
             "endlinecolor": "#2a3f5f",
             "gridcolor": "white",
             "linecolor": "white",
             "minorgridcolor": "white",
             "startlinecolor": "#2a3f5f"
            },
            "type": "carpet"
           }
          ],
          "choropleth": [
           {
            "colorbar": {
             "outlinewidth": 0,
             "ticks": ""
            },
            "type": "choropleth"
           }
          ],
          "contour": [
           {
            "colorbar": {
             "outlinewidth": 0,
             "ticks": ""
            },
            "colorscale": [
             [
              0,
              "#0d0887"
             ],
             [
              0.1111111111111111,
              "#46039f"
             ],
             [
              0.2222222222222222,
              "#7201a8"
             ],
             [
              0.3333333333333333,
              "#9c179e"
             ],
             [
              0.4444444444444444,
              "#bd3786"
             ],
             [
              0.5555555555555556,
              "#d8576b"
             ],
             [
              0.6666666666666666,
              "#ed7953"
             ],
             [
              0.7777777777777778,
              "#fb9f3a"
             ],
             [
              0.8888888888888888,
              "#fdca26"
             ],
             [
              1,
              "#f0f921"
             ]
            ],
            "type": "contour"
           }
          ],
          "contourcarpet": [
           {
            "colorbar": {
             "outlinewidth": 0,
             "ticks": ""
            },
            "type": "contourcarpet"
           }
          ],
          "heatmap": [
           {
            "colorbar": {
             "outlinewidth": 0,
             "ticks": ""
            },
            "colorscale": [
             [
              0,
              "#0d0887"
             ],
             [
              0.1111111111111111,
              "#46039f"
             ],
             [
              0.2222222222222222,
              "#7201a8"
             ],
             [
              0.3333333333333333,
              "#9c179e"
             ],
             [
              0.4444444444444444,
              "#bd3786"
             ],
             [
              0.5555555555555556,
              "#d8576b"
             ],
             [
              0.6666666666666666,
              "#ed7953"
             ],
             [
              0.7777777777777778,
              "#fb9f3a"
             ],
             [
              0.8888888888888888,
              "#fdca26"
             ],
             [
              1,
              "#f0f921"
             ]
            ],
            "type": "heatmap"
           }
          ],
          "heatmapgl": [
           {
            "colorbar": {
             "outlinewidth": 0,
             "ticks": ""
            },
            "colorscale": [
             [
              0,
              "#0d0887"
             ],
             [
              0.1111111111111111,
              "#46039f"
             ],
             [
              0.2222222222222222,
              "#7201a8"
             ],
             [
              0.3333333333333333,
              "#9c179e"
             ],
             [
              0.4444444444444444,
              "#bd3786"
             ],
             [
              0.5555555555555556,
              "#d8576b"
             ],
             [
              0.6666666666666666,
              "#ed7953"
             ],
             [
              0.7777777777777778,
              "#fb9f3a"
             ],
             [
              0.8888888888888888,
              "#fdca26"
             ],
             [
              1,
              "#f0f921"
             ]
            ],
            "type": "heatmapgl"
           }
          ],
          "histogram": [
           {
            "marker": {
             "pattern": {
              "fillmode": "overlay",
              "size": 10,
              "solidity": 0.2
             }
            },
            "type": "histogram"
           }
          ],
          "histogram2d": [
           {
            "colorbar": {
             "outlinewidth": 0,
             "ticks": ""
            },
            "colorscale": [
             [
              0,
              "#0d0887"
             ],
             [
              0.1111111111111111,
              "#46039f"
             ],
             [
              0.2222222222222222,
              "#7201a8"
             ],
             [
              0.3333333333333333,
              "#9c179e"
             ],
             [
              0.4444444444444444,
              "#bd3786"
             ],
             [
              0.5555555555555556,
              "#d8576b"
             ],
             [
              0.6666666666666666,
              "#ed7953"
             ],
             [
              0.7777777777777778,
              "#fb9f3a"
             ],
             [
              0.8888888888888888,
              "#fdca26"
             ],
             [
              1,
              "#f0f921"
             ]
            ],
            "type": "histogram2d"
           }
          ],
          "histogram2dcontour": [
           {
            "colorbar": {
             "outlinewidth": 0,
             "ticks": ""
            },
            "colorscale": [
             [
              0,
              "#0d0887"
             ],
             [
              0.1111111111111111,
              "#46039f"
             ],
             [
              0.2222222222222222,
              "#7201a8"
             ],
             [
              0.3333333333333333,
              "#9c179e"
             ],
             [
              0.4444444444444444,
              "#bd3786"
             ],
             [
              0.5555555555555556,
              "#d8576b"
             ],
             [
              0.6666666666666666,
              "#ed7953"
             ],
             [
              0.7777777777777778,
              "#fb9f3a"
             ],
             [
              0.8888888888888888,
              "#fdca26"
             ],
             [
              1,
              "#f0f921"
             ]
            ],
            "type": "histogram2dcontour"
           }
          ],
          "mesh3d": [
           {
            "colorbar": {
             "outlinewidth": 0,
             "ticks": ""
            },
            "type": "mesh3d"
           }
          ],
          "parcoords": [
           {
            "line": {
             "colorbar": {
              "outlinewidth": 0,
              "ticks": ""
             }
            },
            "type": "parcoords"
           }
          ],
          "pie": [
           {
            "automargin": true,
            "type": "pie"
           }
          ],
          "scatter": [
           {
            "marker": {
             "colorbar": {
              "outlinewidth": 0,
              "ticks": ""
             }
            },
            "type": "scatter"
           }
          ],
          "scatter3d": [
           {
            "line": {
             "colorbar": {
              "outlinewidth": 0,
              "ticks": ""
             }
            },
            "marker": {
             "colorbar": {
              "outlinewidth": 0,
              "ticks": ""
             }
            },
            "type": "scatter3d"
           }
          ],
          "scattercarpet": [
           {
            "marker": {
             "colorbar": {
              "outlinewidth": 0,
              "ticks": ""
             }
            },
            "type": "scattercarpet"
           }
          ],
          "scattergeo": [
           {
            "marker": {
             "colorbar": {
              "outlinewidth": 0,
              "ticks": ""
             }
            },
            "type": "scattergeo"
           }
          ],
          "scattergl": [
           {
            "marker": {
             "colorbar": {
              "outlinewidth": 0,
              "ticks": ""
             }
            },
            "type": "scattergl"
           }
          ],
          "scattermapbox": [
           {
            "marker": {
             "colorbar": {
              "outlinewidth": 0,
              "ticks": ""
             }
            },
            "type": "scattermapbox"
           }
          ],
          "scatterpolar": [
           {
            "marker": {
             "colorbar": {
              "outlinewidth": 0,
              "ticks": ""
             }
            },
            "type": "scatterpolar"
           }
          ],
          "scatterpolargl": [
           {
            "marker": {
             "colorbar": {
              "outlinewidth": 0,
              "ticks": ""
             }
            },
            "type": "scatterpolargl"
           }
          ],
          "scatterternary": [
           {
            "marker": {
             "colorbar": {
              "outlinewidth": 0,
              "ticks": ""
             }
            },
            "type": "scatterternary"
           }
          ],
          "surface": [
           {
            "colorbar": {
             "outlinewidth": 0,
             "ticks": ""
            },
            "colorscale": [
             [
              0,
              "#0d0887"
             ],
             [
              0.1111111111111111,
              "#46039f"
             ],
             [
              0.2222222222222222,
              "#7201a8"
             ],
             [
              0.3333333333333333,
              "#9c179e"
             ],
             [
              0.4444444444444444,
              "#bd3786"
             ],
             [
              0.5555555555555556,
              "#d8576b"
             ],
             [
              0.6666666666666666,
              "#ed7953"
             ],
             [
              0.7777777777777778,
              "#fb9f3a"
             ],
             [
              0.8888888888888888,
              "#fdca26"
             ],
             [
              1,
              "#f0f921"
             ]
            ],
            "type": "surface"
           }
          ],
          "table": [
           {
            "cells": {
             "fill": {
              "color": "#EBF0F8"
             },
             "line": {
              "color": "white"
             }
            },
            "header": {
             "fill": {
              "color": "#C8D4E3"
             },
             "line": {
              "color": "white"
             }
            },
            "type": "table"
           }
          ]
         },
         "layout": {
          "annotationdefaults": {
           "arrowcolor": "#2a3f5f",
           "arrowhead": 0,
           "arrowwidth": 1
          },
          "autotypenumbers": "strict",
          "coloraxis": {
           "colorbar": {
            "outlinewidth": 0,
            "ticks": ""
           }
          },
          "colorscale": {
           "diverging": [
            [
             0,
             "#8e0152"
            ],
            [
             0.1,
             "#c51b7d"
            ],
            [
             0.2,
             "#de77ae"
            ],
            [
             0.3,
             "#f1b6da"
            ],
            [
             0.4,
             "#fde0ef"
            ],
            [
             0.5,
             "#f7f7f7"
            ],
            [
             0.6,
             "#e6f5d0"
            ],
            [
             0.7,
             "#b8e186"
            ],
            [
             0.8,
             "#7fbc41"
            ],
            [
             0.9,
             "#4d9221"
            ],
            [
             1,
             "#276419"
            ]
           ],
           "sequential": [
            [
             0,
             "#0d0887"
            ],
            [
             0.1111111111111111,
             "#46039f"
            ],
            [
             0.2222222222222222,
             "#7201a8"
            ],
            [
             0.3333333333333333,
             "#9c179e"
            ],
            [
             0.4444444444444444,
             "#bd3786"
            ],
            [
             0.5555555555555556,
             "#d8576b"
            ],
            [
             0.6666666666666666,
             "#ed7953"
            ],
            [
             0.7777777777777778,
             "#fb9f3a"
            ],
            [
             0.8888888888888888,
             "#fdca26"
            ],
            [
             1,
             "#f0f921"
            ]
           ],
           "sequentialminus": [
            [
             0,
             "#0d0887"
            ],
            [
             0.1111111111111111,
             "#46039f"
            ],
            [
             0.2222222222222222,
             "#7201a8"
            ],
            [
             0.3333333333333333,
             "#9c179e"
            ],
            [
             0.4444444444444444,
             "#bd3786"
            ],
            [
             0.5555555555555556,
             "#d8576b"
            ],
            [
             0.6666666666666666,
             "#ed7953"
            ],
            [
             0.7777777777777778,
             "#fb9f3a"
            ],
            [
             0.8888888888888888,
             "#fdca26"
            ],
            [
             1,
             "#f0f921"
            ]
           ]
          },
          "colorway": [
           "#636efa",
           "#EF553B",
           "#00cc96",
           "#ab63fa",
           "#FFA15A",
           "#19d3f3",
           "#FF6692",
           "#B6E880",
           "#FF97FF",
           "#FECB52"
          ],
          "font": {
           "color": "#2a3f5f"
          },
          "geo": {
           "bgcolor": "white",
           "lakecolor": "white",
           "landcolor": "#E5ECF6",
           "showlakes": true,
           "showland": true,
           "subunitcolor": "white"
          },
          "hoverlabel": {
           "align": "left"
          },
          "hovermode": "closest",
          "mapbox": {
           "style": "light"
          },
          "paper_bgcolor": "white",
          "plot_bgcolor": "#E5ECF6",
          "polar": {
           "angularaxis": {
            "gridcolor": "white",
            "linecolor": "white",
            "ticks": ""
           },
           "bgcolor": "#E5ECF6",
           "radialaxis": {
            "gridcolor": "white",
            "linecolor": "white",
            "ticks": ""
           }
          },
          "scene": {
           "xaxis": {
            "backgroundcolor": "#E5ECF6",
            "gridcolor": "white",
            "gridwidth": 2,
            "linecolor": "white",
            "showbackground": true,
            "ticks": "",
            "zerolinecolor": "white"
           },
           "yaxis": {
            "backgroundcolor": "#E5ECF6",
            "gridcolor": "white",
            "gridwidth": 2,
            "linecolor": "white",
            "showbackground": true,
            "ticks": "",
            "zerolinecolor": "white"
           },
           "zaxis": {
            "backgroundcolor": "#E5ECF6",
            "gridcolor": "white",
            "gridwidth": 2,
            "linecolor": "white",
            "showbackground": true,
            "ticks": "",
            "zerolinecolor": "white"
           }
          },
          "shapedefaults": {
           "line": {
            "color": "#2a3f5f"
           }
          },
          "ternary": {
           "aaxis": {
            "gridcolor": "white",
            "linecolor": "white",
            "ticks": ""
           },
           "baxis": {
            "gridcolor": "white",
            "linecolor": "white",
            "ticks": ""
           },
           "bgcolor": "#E5ECF6",
           "caxis": {
            "gridcolor": "white",
            "linecolor": "white",
            "ticks": ""
           }
          },
          "title": {
           "x": 0.05
          },
          "xaxis": {
           "automargin": true,
           "gridcolor": "white",
           "linecolor": "white",
           "ticks": "",
           "title": {
            "standoff": 15
           },
           "zerolinecolor": "white",
           "zerolinewidth": 2
          },
          "yaxis": {
           "automargin": true,
           "gridcolor": "white",
           "linecolor": "white",
           "ticks": "",
           "title": {
            "standoff": 15
           },
           "zerolinecolor": "white",
           "zerolinewidth": 2
          }
         }
        }
       }
      }
     },
     "metadata": {},
     "output_type": "display_data"
    }
   ],
   "source": [
    "# two clear clusters\n",
    "# one of them will be stretched for many times to 'catch' the PCA looking for variance, then it stops\n",
    "# and go to the forth dimension to link with the other cluster\n",
    "\n",
    "cluster_size = 100\n",
    "X, int_labels = make_blobs(n_samples=2*cluster_size, n_features=2, centers=[(1,-1), (1,1)], cluster_std=1.5, shuffle=False)\n",
    "# attach the label because we are going to shuffle the data\n",
    "X = np.c_[X, int_labels]\n",
    "\n",
    "\n",
    "z = np.concatenate([2*np.ones(cluster_size), -2*np.linspace(0, 3, cluster_size)])\n",
    "X = np.c_[z, X]\n",
    "\n",
    "# shuffle X \n",
    "np.random.shuffle(X)\n",
    "w = np.linspace(0, 4.5, cluster_size*2) \n",
    "X = np.c_[w, X]\n",
    "\n",
    "# separate the labels\n",
    "\n",
    "int_labels = X[:,-1]\n",
    "X = X[:, :-1]\n",
    "\n",
    "# plot 3D \n",
    "\n",
    "fig = px.scatter_3d(x=X[:, 1],\n",
    "                    y=X[:, 2],\n",
    "                    z=X[:, 3],\n",
    "                  size_max=0.1)\n",
    "\n",
    "fig.update_layout(margin=dict(l=0, r=0, b=0, t=0))\n"
   ]
  },
  {
   "cell_type": "code",
   "execution_count": 8,
   "metadata": {},
   "outputs": [
    {
     "data": {
      "image/png": "[encoded data removed]",
      "text/plain": [
       "<Figure size 800x600 with 1 Axes>"
      ]
     },
     "metadata": {
      "image/png": {
       "height": 521,
       "width": 706
      }
     },
     "output_type": "display_data"
    },
    {
     "data": {
      "image/png": "[encoded data removed]",
      "text/plain": [
       "<Figure size 800x600 with 1 Axes>"
      ]
     },
     "metadata": {
      "image/png": {
       "height": 553,
       "width": 695
      }
     },
     "output_type": "display_data"
    }
   ],
   "source": [
    "# PCA \n",
    "X_pca, _ = compute_PCA(X, n_components=2)\n",
    "\n",
    "# You think you captured the clusters\n",
    "fig, ax = plot_2D_embedding(X_pca)\n"
   ]
  },
  {
   "cell_type": "code",
   "execution_count": 9,
   "metadata": {},
   "outputs": [
    {
     "data": {
      "application/vnd.plotly.v1+json": {
       "config": {
        "plotlyServerURL": "https://plot.ly"
       },
       "data": [
        {
         "hovertemplate": "x=%{x}<br>y=%{y}<br>z=%{z}<br>color=%{marker.color}<extra></extra>",
         "legendgroup": "",
         "marker": {
          "color": [
           0,
           1,
           0,
           0,
           1,
           1,
           1,
           1,
           0,
           0,
           1,
           1,
           1,
           0,
           1,
           0,
           1,
           1,
           1,
           1,
           1,
           1,
           1,
           1,
           1,
           1,
           1,
           1,
           0,
           1,
           1,
           0,
           1,
           1,
           1,
           0,
           1,
           1,
           1,
           0,
           1,
           0,
           0,
           1,
           1,
           0,
           1,
           0,
           0,
           0,
           0,
           0,
           1,
           1,
           0,
           1,
           1,
           0,
           1,
           0,
           1,
           1,
           0,
           1,
           1,
           0,
           0,
           0,
           1,
           0,
           1,
           0,
           0,
           0,
           0,
           1,
           0,
           1,
           0,
           1,
           0,
           0,
           0,
           1,
           1,
           1,
           0,
           0,
           0,
           1,
           0,
           0,
           0,
           0,
           1,
           1,
           0,
           0,
           0,
           1,
           0,
           0,
           0,
           1,
           1,
           1,
           0,
           1,
           0,
           0,
           1,
           0,
           1,
           0,
           1,
           0,
           0,
           1,
           1,
           0,
           0,
           1,
           0,
           0,
           1,
           0,
           0,
           1,
           0,
           1,
           0,
           0,
           0,
           1,
           0,
           0,
           0,
           0,
           0,
           1,
           0,
           1,
           1,
           1,
           1,
           0,
           1,
           1,
           1,
           1,
           0,
           0,
           0,
           0,
           0,
           0,
           1,
           0,
           1,
           0,
           1,
           1,
           1,
           0,
           1,
           1,
           0,
           1,
           1,
           1,
           0,
           1,
           0,
           0,
           1,
           1,
           1,
           0,
           1,
           0,
           0,
           1,
           1,
           1,
           0,
           1,
           0,
           0,
           0,
           1,
           0,
           0,
           1,
           0,
           0,
           1,
           0,
           0,
           0,
           1
          ],
          "coloraxis": "coloraxis",
          "symbol": "circle"
         },
         "mode": "markers",
         "name": "",
         "scene": "scene",
         "showlegend": false,
         "type": "scatter3d",
         "x": [
          0,
          0.022613065326633167,
          0.04522613065326633,
          0.0678391959798995,
          0.09045226130653267,
          0.11306532663316583,
          0.135678391959799,
          0.15829145728643218,
          0.18090452261306533,
          0.20351758793969849,
          0.22613065326633167,
          0.24874371859296485,
          0.271356783919598,
          0.29396984924623115,
          0.31658291457286436,
          0.3391959798994975,
          0.36180904522613067,
          0.3844221105527638,
          0.40703517587939697,
          0.4296482412060302,
          0.45226130653266333,
          0.4748743718592965,
          0.4974874371859297,
          0.5201005025125628,
          0.542713567839196,
          0.5653266331658292,
          0.5879396984924623,
          0.6105527638190955,
          0.6331658291457287,
          0.6557788944723618,
          0.678391959798995,
          0.7010050251256281,
          0.7236180904522613,
          0.7462311557788945,
          0.7688442211055276,
          0.7914572864321608,
          0.8140703517587939,
          0.8366834170854272,
          0.8592964824120604,
          0.8819095477386935,
          0.9045226130653267,
          0.9271356783919599,
          0.949748743718593,
          0.9723618090452262,
          0.9949748743718594,
          1.0175879396984926,
          1.0402010050251256,
          1.0628140703517588,
          1.085427135678392,
          1.1080402010050252,
          1.1306532663316584,
          1.1532663316582914,
          1.1758793969849246,
          1.1984924623115578,
          1.221105527638191,
          1.2437185929648242,
          1.2663316582914574,
          1.2889447236180904,
          1.3115577889447236,
          1.3341708542713568,
          1.35678391959799,
          1.3793969849246233,
          1.4020100502512562,
          1.4246231155778895,
          1.4472361809045227,
          1.4698492462311559,
          1.492462311557789,
          1.515075376884422,
          1.5376884422110553,
          1.5603015075376885,
          1.5829145728643217,
          1.605527638190955,
          1.6281407035175879,
          1.650753768844221,
          1.6733668341708543,
          1.6959798994974875,
          1.7185929648241207,
          1.741206030150754,
          1.763819095477387,
          1.7864321608040201,
          1.8090452261306533,
          1.8316582914572865,
          1.8542713567839197,
          1.8768844221105527,
          1.899497487437186,
          1.9221105527638191,
          1.9447236180904524,
          1.9673366834170856,
          1.9899497487437188,
          2.012562814070352,
          2.035175879396985,
          2.057788944723618,
          2.080402010050251,
          2.1030150753768844,
          2.1256281407035176,
          2.148241206030151,
          2.170854271356784,
          2.193467336683417,
          2.2160804020100504,
          2.2386934673366836,
          2.261306532663317,
          2.28391959798995,
          2.306532663316583,
          2.329145728643216,
          2.351758793969849,
          2.3743718592964824,
          2.3969849246231156,
          2.419597989949749,
          2.442211055276382,
          2.4648241206030153,
          2.4874371859296485,
          2.5100502512562817,
          2.532663316582915,
          2.5552763819095476,
          2.577889447236181,
          2.600502512562814,
          2.6231155778894473,
          2.6457286432160805,
          2.6683417085427137,
          2.690954773869347,
          2.71356783919598,
          2.7361809045226133,
          2.7587939698492465,
          2.7814070351758793,
          2.8040201005025125,
          2.8266331658291457,
          2.849246231155779,
          2.871859296482412,
          2.8944723618090453,
          2.9170854271356785,
          2.9396984924623117,
          2.962311557788945,
          2.984924623115578,
          3.0075376884422114,
          3.030150753768844,
          3.0527638190954773,
          3.0753768844221105,
          3.0979899497487438,
          3.120603015075377,
          3.14321608040201,
          3.1658291457286434,
          3.1884422110552766,
          3.21105527638191,
          3.233668341708543,
          3.2562814070351758,
          3.278894472361809,
          3.301507537688442,
          3.3241206030150754,
          3.3467336683417086,
          3.369346733668342,
          3.391959798994975,
          3.4145728643216082,
          3.4371859296482414,
          3.4597989949748746,
          3.482412060301508,
          3.5050251256281406,
          3.527638190954774,
          3.550251256281407,
          3.5728643216080402,
          3.5954773869346734,
          3.6180904522613067,
          3.64070351758794,
          3.663316582914573,
          3.6859296482412063,
          3.7085427135678395,
          3.7311557788944727,
          3.7537688442211055,
          3.7763819095477387,
          3.798994974874372,
          3.821608040201005,
          3.8442211055276383,
          3.8668341708542715,
          3.8894472361809047,
          3.912060301507538,
          3.934673366834171,
          3.9572864321608043,
          3.9798994974874375,
          4.00251256281407,
          4.025125628140704,
          4.047738693467337,
          4.07035175879397,
          4.092964824120603,
          4.115577889447236,
          4.13819095477387,
          4.160804020100502,
          4.183417085427136,
          4.206030150753769,
          4.228643216080402,
          4.251256281407035,
          4.273869346733669,
          4.296482412060302,
          4.319095477386935,
          4.341708542713568,
          4.364321608040201,
          4.386934673366834,
          4.409547738693467,
          4.432160804020101,
          4.454773869346734,
          4.477386934673367,
          4.5
         ],
         "y": [
          1.8569285529348676,
          -1.6005459942845754,
          -1.1773085349876355,
          1.542909652320502,
          2.2188331982102882,
          -1.5349817772448575,
          -0.3337745095185487,
          2.835348527148683,
          0.8423635743957223,
          0.8496307421550561,
          -4.046718891791288,
          1.2058560231609485,
          0.9198825695451364,
          0.5991563927198988,
          -0.5668100600350554,
          -0.12714339954097564,
          0.5562854162110137,
          1.1571961214612299,
          2.247535222307694,
          0.10568057093590455,
          1.8652862246965056,
          0.5694620043334706,
          0.12345156893017495,
          2.3372232024227055,
          -2.218485544965745,
          1.8505969180597948,
          1.7064880218500045,
          1.3952054743523072,
          1.4992777387384597,
          0.2495195850552583,
          0.11549810522564119,
          0.09077279690224427,
          1.9650153475169694,
          0.22385459017034903,
          0.7742255209596673,
          1.413255541198861,
          0.7795289831443315,
          -0.7618654762282873,
          2.91952378736757,
          -0.2388092479924515,
          1.75914762993317,
          1.4813338006607766,
          2.2350860676449855,
          1.5354972041024966,
          -1.1879278850016202,
          -1.4620101990909946,
          0.7666731269336344,
          3.608758283365522,
          2.1640282166309937,
          2.3573638029144925,
          2.738362672895636,
          -1.9241716805727247,
          2.356856133159048,
          1.3736602540845126,
          -0.9926814286158872,
          -3.4811989109574863,
          -0.765702183659454,
          -1.6185387258075568,
          2.6721368659648084,
          0.8233731910252635,
          3.2057489323918205,
          0.5826163090373706,
          0.3508579974836423,
          0.2067371492219927,
          1.3753108093350939,
          2.4503482248694537,
          1.2316433449099262,
          -2.2295760964537266,
          0.8074682315367435,
          1.7042133007163998,
          1.1905242557544504,
          2.076592799687841,
          2.1705944451335797,
          -0.3323514511374781,
          1.0430392436404208,
          2.3139280796075923,
          3.0682664536973254,
          1.3912526006059496,
          1.4295117439092775,
          1.3775835423530105,
          -0.05652778657787527,
          0.7067999564006728,
          2.057930910094157,
          -0.6776232337299584,
          1.628006784687957,
          1.612228838926157,
          -0.27188742296375934,
          1.7656122729146508,
          1.6391777831819765,
          0.8134830155485768,
          0.4214130503027609,
          2.3786949561703885,
          2.7511473670149442,
          -0.33973376916776266,
          1.958852724819561,
          1.5598330306506787,
          1.37418899075544,
          2.6553204695961035,
          2.8905525869640174,
          2.371651724897296,
          2.5852412140371417,
          0.5766275468913162,
          2.3909949692693644,
          -1.8255252160657118,
          0.5624951629014041,
          0.7652634695883518,
          2.693473249766725,
          -1.4549698993800821,
          0.44587027127298207,
          0.9459053038103737,
          2.8365261226351803,
          1.147907862134744,
          1.499687536709272,
          -0.41529806601473274,
          0.8891568517154964,
          3.018915215352056,
          -1.33501890963755,
          2.443590250881842,
          3.4476210582341165,
          -2.3759235144842537,
          4.443404564087106,
          1.102459878014408,
          -0.3777619754297179,
          -0.5039064156342876,
          2.512830762220429,
          -0.26025948760013273,
          -0.2500926821020315,
          3.9838056400931645,
          1.9105683050068292,
          4.633865074707378,
          0.4593549268585053,
          2.3114369034304847,
          3.0521540152638673,
          -1.5353919303988577,
          2.311773993204903,
          0.9280895817807218,
          0.7815967406985114,
          3.4306675185910662,
          2.163340841197936,
          0.4237542097744479,
          1.6983057773722319,
          1.005099561583166,
          2.963822311838805,
          0.012418947112357026,
          -0.996968250556201,
          4.221034825043388,
          0.8142099827307805,
          0.42223901505786243,
          2.9927916816667484,
          2.589163018474413,
          -0.5790619759395126,
          3.6341787451616305,
          3.3491408459189187,
          -1.6387837464706179,
          -0.3331186594254001,
          -1.1426234811205065,
          -0.3562473739563672,
          -0.3697930851404623,
          1.8056238775327476,
          2.163074714663953,
          0.19242407871413658,
          1.20711296281661,
          0.4194000828729748,
          -0.585965496975223,
          2.256893758517104,
          -2.4012227518930818,
          0.19291252722137386,
          -1.2168261724924085,
          2.7769548676448865,
          3.418783720287891,
          -3.3859936649383924,
          2.2467975866745213,
          -1.1645847594172682,
          -2.9844784161438125,
          2.204557645129972,
          1.774139025906179,
          -1.1914677225145458,
          -0.32336715280726436,
          1.1939109315468914,
          1.3779395283911686,
          -0.6109920706655592,
          1.7889029159127001,
          1.2239708805115184,
          2.1362629860615034,
          2.9019437577018525,
          1.022225444802491,
          2.315815552659219,
          1.5005085482335354,
          0.7065290319938904,
          -2.4915080963698064,
          1.6575091378169335,
          1.6840205039028935,
          -1.8356874546756234,
          0.8887667477631958,
          1.0819241104628452,
          -0.6934894469724826,
          0.24628721541909937,
          3.1974065077891645,
          2.5852549908622495,
          0.5081799292184438
         ],
         "z": [
          -0.8924266308329853,
          0.4703453949481302,
          0.6410268623932578,
          0.4031863520982184,
          2.428896697940252,
          0.27853522882549797,
          1.670870031963354,
          3.2117479817317314,
          -2.145893068488843,
          -0.9923996881213308,
          2.1647221181845113,
          0.7091823391744276,
          -2.5327293392910324,
          -2.9755019406239454,
          -1.1604870014188542,
          -3.2904599949141944,
          -0.35631522693336204,
          -1.3512959882446869,
          2.132920192876198,
          2.7419166614731982,
          3.364905268103822,
          0.16035127539612914,
          -0.11017997313185046,
          -0.38434216488823214,
          1.7842381641274287,
          3.599214810670514,
          1.9970456429958094,
          0.6319448834884639,
          -2.4862451187252512,
          0.5546923218241775,
          3.2460992976975107,
          1.011905889234721,
          1.1185735855604166,
          -0.6651231741233556,
          1.1767461800319032,
          -3.0640406010659693,
          0.11014220003557651,
          -1.6723859933773841,
          0.03643680678434413,
          0.5343127704222725,
          0.5158172468062524,
          -1.3887658774833658,
          0.1825339614879804,
          -0.2477568312905012,
          0.1302699220982123,
          0.32922762950336315,
          -1.8729929421279978,
          -1.7585447206497924,
          0.9700855651042415,
          -2.4682182349618946,
          -1.810628219085312,
          -3.1863209636910863,
          1.5932109961519074,
          2.247259256050096,
          -1.5295876864957956,
          0.42378282015809776,
          0.48962279777750606,
          1.1670021203591192,
          1.139637500178435,
          -1.2024228612268448,
          1.38964880102992,
          0.8810788747996089,
          -1.1396381919638674,
          0.5480567848748586,
          2.6045064177366193,
          -1.0398183927347404,
          -1.2060127960910514,
          1.6361882740334255,
          -0.8185679425925263,
          0.7210424595573572,
          1.9932550794830342,
          -1.4535086463496554,
          -0.6284934688021699,
          -2.399870804940761,
          0.21314464498010954,
          -0.5334730872773514,
          -0.8934136890891496,
          1.0780234677733367,
          -2.0654985917988387,
          2.1533653551318443,
          0.7114911111387081,
          -3.426770612156176,
          -0.09776066285537077,
          -1.070009703084203,
          -1.712724555019753,
          -1.6884871659151584,
          -3.2087490112072596,
          -3.0613608164136337,
          0.6895137260187156,
          1.2045592046201017,
          0.195548783085725,
          -2.363720657658841,
          0.18281785105556247,
          -0.18747770048332302,
          3.0054373724253702,
          0.1338088134665003,
          -2.5559966990183614,
          -1.2066001882704984,
          -0.19587152343046754,
          -0.20505458090121653,
          -3.551045146462637,
          -3.1521350360968348,
          -0.2692484202579719,
          1.5124617527063569,
          0.6278905905287075,
          0.5552706473723164,
          -1.4993206639582293,
          2.2764783086750966,
          -3.264043811823633,
          -0.9113696918028199,
          0.766621719388348,
          0.2951560880967943,
          -0.3388580174012359,
          0.6682434430097395,
          1.451782839432128,
          0.3801397772899122,
          0.17121781309955408,
          1.244805137568625,
          1.1935490734670047,
          -5.68683199810493,
          -2.916933245965329,
          3.5645329494181826,
          -3.135632804133262,
          -1.2583580229926188,
          1.057386540278663,
          -1.9614084503558769,
          0.8250836812385673,
          1.2449324469902543,
          0.877361890500683,
          0.5829848281385858,
          0.5101672492028309,
          -0.4133757445951638,
          -2.2496678158936634,
          -2.211528861202642,
          -1.890437857306543,
          -2.317331319346616,
          0.16026107965190617,
          -0.4974468050494818,
          1.6544856661665106,
          0.5333744262210159,
          -0.30311717347995604,
          2.727352160101301,
          1.3286853114736799,
          1.8903117443094763,
          1.3137480354051139,
          -3.2529910212732664,
          0.27300576633244067,
          2.394641673457165,
          1.503607189587654,
          1.6465453038360156,
          -3.4003310878192825,
          -2.632860468295906,
          -1.6350283333459492,
          -2.478257416012781,
          -4.833557701288159,
          -0.21739647236349846,
          2.577909537106292,
          1.8893438965418041,
          2.0538825144777695,
          -2.6871202796619182,
          -0.08029237806770184,
          -0.5604732723629977,
          2.3255157048541655,
          0.8442501674898564,
          3.2462320852400075,
          0.4111899581359466,
          0.9309078961751982,
          0.15681051587096062,
          3.2891826474866277,
          1.0301694051375117,
          -1.8061480126931035,
          -0.19962461744660853,
          -1.1643181436134156,
          -3.4299671399898646,
          1.1698636204091823,
          1.32375313612736,
          1.0934902587800321,
          -2.387076230750749,
          -1.1484476367130672,
          -2.268249018416969,
          -0.7875112203463814,
          1.4679614101572969,
          -1.155366451601207,
          0.8758808898740629,
          -4.111607866129093,
          -1.5749223831178631,
          -0.5739696319086112,
          -0.15891023213443878,
          -1.1329521572614742,
          1.2102258628840166,
          -1.9167216843599497,
          2.349330416767673,
          0.45493147670450607,
          2.4300314277209525,
          -3.3202945247647753,
          1.8559920193381534,
          -3.5245738572649286,
          -0.3469158734634963,
          -0.7219114802039528,
          0.0444828801362297
         ]
        }
       ],
       "layout": {
        "coloraxis": {
         "colorbar": {
          "title": {
           "text": "color"
          }
         },
         "colorscale": [
          [
           0,
           "#0d0887"
          ],
          [
           0.1111111111111111,
           "#46039f"
          ],
          [
           0.2222222222222222,
           "#7201a8"
          ],
          [
           0.3333333333333333,
           "#9c179e"
          ],
          [
           0.4444444444444444,
           "#bd3786"
          ],
          [
           0.5555555555555556,
           "#d8576b"
          ],
          [
           0.6666666666666666,
           "#ed7953"
          ],
          [
           0.7777777777777778,
           "#fb9f3a"
          ],
          [
           0.8888888888888888,
           "#fdca26"
          ],
          [
           1,
           "#f0f921"
          ]
         ]
        },
        "legend": {
         "tracegroupgap": 0
        },
        "margin": {
         "b": 0,
         "l": 0,
         "r": 0,
         "t": 0
        },
        "scene": {
         "domain": {
          "x": [
           0,
           1
          ],
          "y": [
           0,
           1
          ]
         },
         "xaxis": {
          "title": {
           "text": "x"
          }
         },
         "yaxis": {
          "title": {
           "text": "y"
          }
         },
         "zaxis": {
          "title": {
           "text": "z"
          }
         }
        },
        "template": {
         "data": {
          "bar": [
           {
            "error_x": {
             "color": "#2a3f5f"
            },
            "error_y": {
             "color": "#2a3f5f"
            },
            "marker": {
             "line": {
              "color": "#E5ECF6",
              "width": 0.5
             },
             "pattern": {
              "fillmode": "overlay",
              "size": 10,
              "solidity": 0.2
             }
            },
            "type": "bar"
           }
          ],
          "barpolar": [
           {
            "marker": {
             "line": {
              "color": "#E5ECF6",
              "width": 0.5
             },
             "pattern": {
              "fillmode": "overlay",
              "size": 10,
              "solidity": 0.2
             }
            },
            "type": "barpolar"
           }
          ],
          "carpet": [
           {
            "aaxis": {
             "endlinecolor": "#2a3f5f",
             "gridcolor": "white",
             "linecolor": "white",
             "minorgridcolor": "white",
             "startlinecolor": "#2a3f5f"
            },
            "baxis": {
             "endlinecolor": "#2a3f5f",
             "gridcolor": "white",
             "linecolor": "white",
             "minorgridcolor": "white",
             "startlinecolor": "#2a3f5f"
            },
            "type": "carpet"
           }
          ],
          "choropleth": [
           {
            "colorbar": {
             "outlinewidth": 0,
             "ticks": ""
            },
            "type": "choropleth"
           }
          ],
          "contour": [
           {
            "colorbar": {
             "outlinewidth": 0,
             "ticks": ""
            },
            "colorscale": [
             [
              0,
              "#0d0887"
             ],
             [
              0.1111111111111111,
              "#46039f"
             ],
             [
              0.2222222222222222,
              "#7201a8"
             ],
             [
              0.3333333333333333,
              "#9c179e"
             ],
             [
              0.4444444444444444,
              "#bd3786"
             ],
             [
              0.5555555555555556,
              "#d8576b"
             ],
             [
              0.6666666666666666,
              "#ed7953"
             ],
             [
              0.7777777777777778,
              "#fb9f3a"
             ],
             [
              0.8888888888888888,
              "#fdca26"
             ],
             [
              1,
              "#f0f921"
             ]
            ],
            "type": "contour"
           }
          ],
          "contourcarpet": [
           {
            "colorbar": {
             "outlinewidth": 0,
             "ticks": ""
            },
            "type": "contourcarpet"
           }
          ],
          "heatmap": [
           {
            "colorbar": {
             "outlinewidth": 0,
             "ticks": ""
            },
            "colorscale": [
             [
              0,
              "#0d0887"
             ],
             [
              0.1111111111111111,
              "#46039f"
             ],
             [
              0.2222222222222222,
              "#7201a8"
             ],
             [
              0.3333333333333333,
              "#9c179e"
             ],
             [
              0.4444444444444444,
              "#bd3786"
             ],
             [
              0.5555555555555556,
              "#d8576b"
             ],
             [
              0.6666666666666666,
              "#ed7953"
             ],
             [
              0.7777777777777778,
              "#fb9f3a"
             ],
             [
              0.8888888888888888,
              "#fdca26"
             ],
             [
              1,
              "#f0f921"
             ]
            ],
            "type": "heatmap"
           }
          ],
          "heatmapgl": [
           {
            "colorbar": {
             "outlinewidth": 0,
             "ticks": ""
            },
            "colorscale": [
             [
              0,
              "#0d0887"
             ],
             [
              0.1111111111111111,
              "#46039f"
             ],
             [
              0.2222222222222222,
              "#7201a8"
             ],
             [
              0.3333333333333333,
              "#9c179e"
             ],
             [
              0.4444444444444444,
              "#bd3786"
             ],
             [
              0.5555555555555556,
              "#d8576b"
             ],
             [
              0.6666666666666666,
              "#ed7953"
             ],
             [
              0.7777777777777778,
              "#fb9f3a"
             ],
             [
              0.8888888888888888,
              "#fdca26"
             ],
             [
              1,
              "#f0f921"
             ]
            ],
            "type": "heatmapgl"
           }
          ],
          "histogram": [
           {
            "marker": {
             "pattern": {
              "fillmode": "overlay",
              "size": 10,
              "solidity": 0.2
             }
            },
            "type": "histogram"
           }
          ],
          "histogram2d": [
           {
            "colorbar": {
             "outlinewidth": 0,
             "ticks": ""
            },
            "colorscale": [
             [
              0,
              "#0d0887"
             ],
             [
              0.1111111111111111,
              "#46039f"
             ],
             [
              0.2222222222222222,
              "#7201a8"
             ],
             [
              0.3333333333333333,
              "#9c179e"
             ],
             [
              0.4444444444444444,
              "#bd3786"
             ],
             [
              0.5555555555555556,
              "#d8576b"
             ],
             [
              0.6666666666666666,
              "#ed7953"
             ],
             [
              0.7777777777777778,
              "#fb9f3a"
             ],
             [
              0.8888888888888888,
              "#fdca26"
             ],
             [
              1,
              "#f0f921"
             ]
            ],
            "type": "histogram2d"
           }
          ],
          "histogram2dcontour": [
           {
            "colorbar": {
             "outlinewidth": 0,
             "ticks": ""
            },
            "colorscale": [
             [
              0,
              "#0d0887"
             ],
             [
              0.1111111111111111,
              "#46039f"
             ],
             [
              0.2222222222222222,
              "#7201a8"
             ],
             [
              0.3333333333333333,
              "#9c179e"
             ],
             [
              0.4444444444444444,
              "#bd3786"
             ],
             [
              0.5555555555555556,
              "#d8576b"
             ],
             [
              0.6666666666666666,
              "#ed7953"
             ],
             [
              0.7777777777777778,
              "#fb9f3a"
             ],
             [
              0.8888888888888888,
              "#fdca26"
             ],
             [
              1,
              "#f0f921"
             ]
            ],
            "type": "histogram2dcontour"
           }
          ],
          "mesh3d": [
           {
            "colorbar": {
             "outlinewidth": 0,
             "ticks": ""
            },
            "type": "mesh3d"
           }
          ],
          "parcoords": [
           {
            "line": {
             "colorbar": {
              "outlinewidth": 0,
              "ticks": ""
             }
            },
            "type": "parcoords"
           }
          ],
          "pie": [
           {
            "automargin": true,
            "type": "pie"
           }
          ],
          "scatter": [
           {
            "marker": {
             "colorbar": {
              "outlinewidth": 0,
              "ticks": ""
             }
            },
            "type": "scatter"
           }
          ],
          "scatter3d": [
           {
            "line": {
             "colorbar": {
              "outlinewidth": 0,
              "ticks": ""
             }
            },
            "marker": {
             "colorbar": {
              "outlinewidth": 0,
              "ticks": ""
             }
            },
            "type": "scatter3d"
           }
          ],
          "scattercarpet": [
           {
            "marker": {
             "colorbar": {
              "outlinewidth": 0,
              "ticks": ""
             }
            },
            "type": "scattercarpet"
           }
          ],
          "scattergeo": [
           {
            "marker": {
             "colorbar": {
              "outlinewidth": 0,
              "ticks": ""
             }
            },
            "type": "scattergeo"
           }
          ],
          "scattergl": [
           {
            "marker": {
             "colorbar": {
              "outlinewidth": 0,
              "ticks": ""
             }
            },
            "type": "scattergl"
           }
          ],
          "scattermapbox": [
           {
            "marker": {
             "colorbar": {
              "outlinewidth": 0,
              "ticks": ""
             }
            },
            "type": "scattermapbox"
           }
          ],
          "scatterpolar": [
           {
            "marker": {
             "colorbar": {
              "outlinewidth": 0,
              "ticks": ""
             }
            },
            "type": "scatterpolar"
           }
          ],
          "scatterpolargl": [
           {
            "marker": {
             "colorbar": {
              "outlinewidth": 0,
              "ticks": ""
             }
            },
            "type": "scatterpolargl"
           }
          ],
          "scatterternary": [
           {
            "marker": {
             "colorbar": {
              "outlinewidth": 0,
              "ticks": ""
             }
            },
            "type": "scatterternary"
           }
          ],
          "surface": [
           {
            "colorbar": {
             "outlinewidth": 0,
             "ticks": ""
            },
            "colorscale": [
             [
              0,
              "#0d0887"
             ],
             [
              0.1111111111111111,
              "#46039f"
             ],
             [
              0.2222222222222222,
              "#7201a8"
             ],
             [
              0.3333333333333333,
              "#9c179e"
             ],
             [
              0.4444444444444444,
              "#bd3786"
             ],
             [
              0.5555555555555556,
              "#d8576b"
             ],
             [
              0.6666666666666666,
              "#ed7953"
             ],
             [
              0.7777777777777778,
              "#fb9f3a"
             ],
             [
              0.8888888888888888,
              "#fdca26"
             ],
             [
              1,
              "#f0f921"
             ]
            ],
            "type": "surface"
           }
          ],
          "table": [
           {
            "cells": {
             "fill": {
              "color": "#EBF0F8"
             },
             "line": {
              "color": "white"
             }
            },
            "header": {
             "fill": {
              "color": "#C8D4E3"
             },
             "line": {
              "color": "white"
             }
            },
            "type": "table"
           }
          ]
         },
         "layout": {
          "annotationdefaults": {
           "arrowcolor": "#2a3f5f",
           "arrowhead": 0,
           "arrowwidth": 1
          },
          "autotypenumbers": "strict",
          "coloraxis": {
           "colorbar": {
            "outlinewidth": 0,
            "ticks": ""
           }
          },
          "colorscale": {
           "diverging": [
            [
             0,
             "#8e0152"
            ],
            [
             0.1,
             "#c51b7d"
            ],
            [
             0.2,
             "#de77ae"
            ],
            [
             0.3,
             "#f1b6da"
            ],
            [
             0.4,
             "#fde0ef"
            ],
            [
             0.5,
             "#f7f7f7"
            ],
            [
             0.6,
             "#e6f5d0"
            ],
            [
             0.7,
             "#b8e186"
            ],
            [
             0.8,
             "#7fbc41"
            ],
            [
             0.9,
             "#4d9221"
            ],
            [
             1,
             "#276419"
            ]
           ],
           "sequential": [
            [
             0,
             "#0d0887"
            ],
            [
             0.1111111111111111,
             "#46039f"
            ],
            [
             0.2222222222222222,
             "#7201a8"
            ],
            [
             0.3333333333333333,
             "#9c179e"
            ],
            [
             0.4444444444444444,
             "#bd3786"
            ],
            [
             0.5555555555555556,
             "#d8576b"
            ],
            [
             0.6666666666666666,
             "#ed7953"
            ],
            [
             0.7777777777777778,
             "#fb9f3a"
            ],
            [
             0.8888888888888888,
             "#fdca26"
            ],
            [
             1,
             "#f0f921"
            ]
           ],
           "sequentialminus": [
            [
             0,
             "#0d0887"
            ],
            [
             0.1111111111111111,
             "#46039f"
            ],
            [
             0.2222222222222222,
             "#7201a8"
            ],
            [
             0.3333333333333333,
             "#9c179e"
            ],
            [
             0.4444444444444444,
             "#bd3786"
            ],
            [
             0.5555555555555556,
             "#d8576b"
            ],
            [
             0.6666666666666666,
             "#ed7953"
            ],
            [
             0.7777777777777778,
             "#fb9f3a"
            ],
            [
             0.8888888888888888,
             "#fdca26"
            ],
            [
             1,
             "#f0f921"
            ]
           ]
          },
          "colorway": [
           "#636efa",
           "#EF553B",
           "#00cc96",
           "#ab63fa",
           "#FFA15A",
           "#19d3f3",
           "#FF6692",
           "#B6E880",
           "#FF97FF",
           "#FECB52"
          ],
          "font": {
           "color": "#2a3f5f"
          },
          "geo": {
           "bgcolor": "white",
           "lakecolor": "white",
           "landcolor": "#E5ECF6",
           "showlakes": true,
           "showland": true,
           "subunitcolor": "white"
          },
          "hoverlabel": {
           "align": "left"
          },
          "hovermode": "closest",
          "mapbox": {
           "style": "light"
          },
          "paper_bgcolor": "white",
          "plot_bgcolor": "#E5ECF6",
          "polar": {
           "angularaxis": {
            "gridcolor": "white",
            "linecolor": "white",
            "ticks": ""
           },
           "bgcolor": "#E5ECF6",
           "radialaxis": {
            "gridcolor": "white",
            "linecolor": "white",
            "ticks": ""
           }
          },
          "scene": {
           "xaxis": {
            "backgroundcolor": "#E5ECF6",
            "gridcolor": "white",
            "gridwidth": 2,
            "linecolor": "white",
            "showbackground": true,
            "ticks": "",
            "zerolinecolor": "white"
           },
           "yaxis": {
            "backgroundcolor": "#E5ECF6",
            "gridcolor": "white",
            "gridwidth": 2,
            "linecolor": "white",
            "showbackground": true,
            "ticks": "",
            "zerolinecolor": "white"
           },
           "zaxis": {
            "backgroundcolor": "#E5ECF6",
            "gridcolor": "white",
            "gridwidth": 2,
            "linecolor": "white",
            "showbackground": true,
            "ticks": "",
            "zerolinecolor": "white"
           }
          },
          "shapedefaults": {
           "line": {
            "color": "#2a3f5f"
           }
          },
          "ternary": {
           "aaxis": {
            "gridcolor": "white",
            "linecolor": "white",
            "ticks": ""
           },
           "baxis": {
            "gridcolor": "white",
            "linecolor": "white",
            "ticks": ""
           },
           "bgcolor": "#E5ECF6",
           "caxis": {
            "gridcolor": "white",
            "linecolor": "white",
            "ticks": ""
           }
          },
          "title": {
           "x": 0.05
          },
          "xaxis": {
           "automargin": true,
           "gridcolor": "white",
           "linecolor": "white",
           "ticks": "",
           "title": {
            "standoff": 15
           },
           "zerolinecolor": "white",
           "zerolinewidth": 2
          },
          "yaxis": {
           "automargin": true,
           "gridcolor": "white",
           "linecolor": "white",
           "ticks": "",
           "title": {
            "standoff": 15
           },
           "zerolinecolor": "white",
           "zerolinewidth": 2
          }
         }
        }
       }
      }
     },
     "metadata": {},
     "output_type": "display_data"
    }
   ],
   "source": [
    "# there are actually no clusters \n",
    "# data are linked in the forth dimension\n",
    "# plot 3D \n",
    "fig = px.scatter_3d(x=X[:, 0],\n",
    "                    y=X[:, 2],\n",
    "                    z=X[:, 3],\n",
    "                    color=int_labels,\n",
    "                  size_max=0.1)\n",
    "\n",
    "fig.update_layout(margin=dict(l=0, r=0, b=0, t=0))"
   ]
  },
  {
   "cell_type": "markdown",
   "metadata": {},
   "source": [
    "## KMeans "
   ]
  },
  {
   "cell_type": "code",
   "execution_count": 10,
   "metadata": {},
   "outputs": [
    {
     "name": "stdout",
     "output_type": "stream",
     "text": [
      "Number of clusters: 1\n",
      "Adjusted Rand Index:  0.000\n",
      "Number of clusters: 2\n",
      "Adjusted Rand Index:  0.846\n",
      "The average silhouette_score is : 0.40887082031308153\n",
      "Number of clusters: 3\n",
      "Adjusted Rand Index:  0.531\n",
      "The average silhouette_score is : 0.26935565602004297\n",
      "Number of clusters: 4\n",
      "Adjusted Rand Index:  0.479\n",
      "The average silhouette_score is : 0.22143189714577358\n",
      "Number of clusters: 5\n",
      "Adjusted Rand Index:  0.284\n",
      "The average silhouette_score is : 0.23414037147278713\n",
      "Number of clusters: 6\n",
      "Adjusted Rand Index:  0.334\n",
      "The average silhouette_score is : 0.24791276146804925\n",
      "Number of clusters: 7\n",
      "Adjusted Rand Index:  0.301\n",
      "The average silhouette_score is : 0.25314348798532504\n",
      "Number of clusters: 8\n",
      "Adjusted Rand Index:  0.246\n",
      "The average silhouette_score is : 0.24139392098214502\n",
      "Number of clusters: 9\n",
      "Adjusted Rand Index:  0.230\n",
      "The average silhouette_score is : 0.24804325923603762\n"
     ]
    },
    {
     "data": {
      "image/png": "[encoded data removed]",
      "text/plain": [
       "<Figure size 600x400 with 1 Axes>"
      ]
     },
     "metadata": {
      "image/png": {
       "height": 390,
       "width": 553
      }
     },
     "output_type": "display_data"
    }
   ],
   "source": [
    "Sum_of_squared_distances = []\n",
    "K = range(1,10)\n",
    "for k in K:\n",
    "    km = KMeans(n_clusters=k, n_init=100, algorithm='full')\n",
    "    km = km.fit(X)\n",
    "    # labels \n",
    "    cluster_labels = km.labels_\n",
    "    Sum_of_squared_distances.append(km.inertia_)\n",
    "    print(f\"Number of clusters: {k}\")\n",
    "    print(f\"Adjusted Rand Index: {metrics.adjusted_rand_score(int_labels, cluster_labels): .3f}\")\n",
    "    if k>1:\n",
    "        silhouette_avg = metrics.silhouette_score(X, cluster_labels)\n",
    "        print(\"The average silhouette_score is :\", silhouette_avg)\n",
    "\n",
    "plt.plot(K, Sum_of_squared_distances, 'bx-')\n",
    "plt.xlabel('k')\n",
    "plt.ylabel('Sum_of_squared_distances')\n",
    "plt.title('Elbow Method For Optimal k')\n",
    "plt.show()"
   ]
  },
  {
   "cell_type": "code",
   "execution_count": null,
   "metadata": {},
   "outputs": [],
   "source": []
  }
 ],
 "metadata": {
  "interpreter": {
   "hash": "482c7ee10bcfc48d833d5e91ac4c73aaed74370f2e9b73ebf6a71c0c4e454e12"
  },
  "kernelspec": {
   "display_name": "Python 3.7.10 64-bit (conda)",
   "language": "python",
   "name": "python3"
  },
  "language_info": {
   "codemirror_mode": {
    "name": "ipython",
    "version": 3
   },
   "file_extension": ".py",
   "mimetype": "text/x-python",
   "name": "python",
   "nbconvert_exporter": "python",
   "pygments_lexer": "ipython3",
   "version": "3.7.10"
  },
  "orig_nbformat": 4
 },
 "nbformat": 4,
 "nbformat_minor": 2
}
